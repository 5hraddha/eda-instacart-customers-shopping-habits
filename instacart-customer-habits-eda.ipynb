{
 "cells": [
  {
   "attachments": {},
   "cell_type": "markdown",
   "id": "90f5c81e",
   "metadata": {},
   "source": [
    "<div style=\"text-align: center; margin: 40px 20px;\">\n",
    "    <div style=\"margin: 20px 0; border-top: 1px solid #B0E0E6; border-bottom:1px solid #B0E0E6; background-color:  #e6f7ff;\">\n",
    " <font style=\"color: #4169E1; font-size:40px; font-weight: 700; text-align:center; text-transform: uppercase; letter-spacing: 1px; line-height:1.2;\"> 📈 Exploratory Data Analysis</font>\n",
    "    </div>\n",
    " <font style=\"font-size:26px; font-weight: 700; text-align:center;\"> Shopping Habits of Instacart Cutomers</font>\n",
    "</div>"
   ]
  },
  {
   "attachments": {},
   "cell_type": "markdown",
   "id": "d555a22d",
   "metadata": {},
   "source": [
    "# Contents <a id='contents'></a>\n",
    "\n",
    "[1. 📓 Introduction](#introduction)  \n",
    "[2. 🎯 Project goal](#project_goal)  \n",
    "[3. 🐼 Loading libraries, Reading all the data files and creating Dataframes](#loading-libraries)  \n",
    "[4. ❤️‍🩹 Find and remove duplicate values](#find_and_remove_duplicates)  \n",
    "[5. ❤️‍🩹 Find and remove missing values](#find_and_remove_missing)  \n",
    "[6. 📊 Analysis](#analysis)  \n",
    " * [Verify that the `'order_hour_of_day'` and `'order_dow'` values in the `orders` tables are sensible](#analysis-1)\n",
    " * [What time of day do people shop for groceries?](#analysis-2)\n",
    " * [What day of the week do people shop for groceries?](#analysis-3)\n",
    " * [How long do people wait until placing another order?](#analysis-4)\n",
    " * [Is there a difference in `'order_hour_of_day'` distributions on Wednesdays and Saturdays?](#analysis-5)\n",
    " * [What's the distribution for the number of orders per customer?](#analysis-6)\n",
    " * [What are the top 20 popular products?](#analysis-7)\n",
    " * [How many items do people typically buy in one order?](#analysis-8)\n",
    " * [What are the top 20 items that are reordered most frequently?](#analysis-9)\n",
    " * [What are the top 20 items that people put in their carts first?](#analysis-10)  \n",
    "\n",
    "[7. 💡 Findings](#findings)"
   ]
  },
  {
   "attachments": {},
   "cell_type": "markdown",
   "id": "ddd559d2",
   "metadata": {},
   "source": [
    "![purple-divider](https://user-images.githubusercontent.com/7065401/52071927-c1cd7100-2562-11e9-908a-dde91ba14e59.png)\n",
    "\n",
    "# 📓 Introduction <a id='introduction'></a>  \n",
    "[Back to Contents](#contents)"
   ]
  },
  {
   "attachments": {},
   "cell_type": "markdown",
   "id": "524290dc",
   "metadata": {},
   "source": [
    "Instacart is a grocery delivery platform where customers can place a grocery order and have it delivered to them, similar to how Uber Eats and Door Dash work. This particular dataset was [publicly released](https://tech.instacart.com/3-million-instacart-orders-open-sourced-d40d29ead6f2) by Instacart in 2017 for a [Kaggle competition](https://www.kaggle.com/c/instacart-market-basket-analysis/overview).\n",
    "\n",
    "In this Exploratory Data Analysis (EDA) project we'll clean up the data and prepare a report that gives insight into the shopping habits of Instacart customers."
   ]
  },
  {
   "attachments": {},
   "cell_type": "markdown",
   "id": "751aacd7",
   "metadata": {},
   "source": [
    "![purple-divider](https://user-images.githubusercontent.com/7065401/52071927-c1cd7100-2562-11e9-908a-dde91ba14e59.png)\n",
    "\n",
    "# 🎯 Project goal <a id='project_goal'></a>  \n",
    "[Back to Contents](#contents)"
   ]
  },
  {
   "attachments": {},
   "cell_type": "markdown",
   "id": "868b94ad",
   "metadata": {},
   "source": [
    "1. To clean up the data and prepare a report that gives insight into the shopping habits of Instacart customers. \n",
    "2. Provide a brief explanation of the results after answering each question.\n",
    "3. Make plots that communicate your results."
   ]
  },
  {
   "attachments": {},
   "cell_type": "markdown",
   "id": "d0e0e082",
   "metadata": {},
   "source": [
    "![purple-divider](https://user-images.githubusercontent.com/7065401/52071927-c1cd7100-2562-11e9-908a-dde91ba14e59.png)\n",
    "\n",
    "# 🐼 Loading libraries, Reading all the data files and creating Dataframes <a id='loading-libraries'></a>  \n",
    "[Back to Contents](#contents)"
   ]
  },
  {
   "cell_type": "code",
   "execution_count": 1,
   "id": "fbf1adab",
   "metadata": {},
   "outputs": [],
   "source": [
    "# Importing required libraries\n",
    "import pandas as pd\n",
    "from matplotlib import pyplot as plt\n",
    "import numpy as np"
   ]
  },
  {
   "attachments": {},
   "cell_type": "markdown",
   "id": "b00ef368",
   "metadata": {},
   "source": [
    "## 1. Reading data from `instacart_orders.csv`  \n",
    "[Back to Contents](#contents)"
   ]
  },
  {
   "attachments": {},
   "cell_type": "markdown",
   "id": "408f76f8",
   "metadata": {},
   "source": [
    "Open the data file `instacart_orders.csv` from `datasets` folder and look at the general contents of the table. The seperator of this file is `;`."
   ]
  },
  {
   "attachments": {},
   "cell_type": "markdown",
   "id": "435a5af9",
   "metadata": {},
   "source": [
    "Read the file and save it in `orders` variable:"
   ]
  },
  {
   "cell_type": "code",
   "execution_count": 2,
   "id": "ad36396d",
   "metadata": {},
   "outputs": [],
   "source": [
    "# Reading instacart_orders.csv file with ';' as separator\n",
    "orders = pd.read_csv('datasets/instacart_orders.csv', sep=';')"
   ]
  },
  {
   "attachments": {},
   "cell_type": "markdown",
   "id": "c937daef",
   "metadata": {},
   "source": [
    "Get the information of the data in the DataFrame - `orders`:"
   ]
  },
  {
   "cell_type": "code",
   "execution_count": 3,
   "id": "5769d3ee",
   "metadata": {
    "scrolled": true
   },
   "outputs": [
    {
     "name": "stdout",
     "output_type": "stream",
     "text": [
      "<class 'pandas.core.frame.DataFrame'>\n",
      "RangeIndex: 478967 entries, 0 to 478966\n",
      "Data columns (total 6 columns):\n",
      " #   Column                  Non-Null Count   Dtype  \n",
      "---  ------                  --------------   -----  \n",
      " 0   order_id                478967 non-null  int64  \n",
      " 1   user_id                 478967 non-null  int64  \n",
      " 2   order_number            478967 non-null  int64  \n",
      " 3   order_dow               478967 non-null  int64  \n",
      " 4   order_hour_of_day       478967 non-null  int64  \n",
      " 5   days_since_prior_order  450148 non-null  float64\n",
      "dtypes: float64(1), int64(5)\n",
      "memory usage: 21.9 MB\n"
     ]
    }
   ],
   "source": [
    "# Getting the general information about the data in the dataframe\n",
    "orders.info()"
   ]
  },
  {
   "attachments": {},
   "cell_type": "markdown",
   "id": "d02f6df9",
   "metadata": {},
   "source": [
    "The Dataframe - `orders` has a total of **478966 rows and 6 columns**.  \n",
    "\n",
    "The **columns description** are as follows:  \n",
    "- `order_id`: ID number that uniquely identifies each order\n",
    "- `user_id`: ID number that uniquely identifies each customer account\n",
    "- `order_number`: the number of times this customer has placed an order\n",
    "- `order_dow`: day of the week that the order placed (which day is 0 is uncertain)\n",
    "- `order_hour_of_day`: hour of the day that the order was placed\n",
    "- `days_since_prior_order`: number of days since this customer placed their previous order  \n",
    "\n",
    "Also, it seems that `days_since_prior_order` column has some missing values."
   ]
  },
  {
   "attachments": {},
   "cell_type": "markdown",
   "id": "d4146ab2",
   "metadata": {},
   "source": [
    "Print the first 10 table rows:"
   ]
  },
  {
   "cell_type": "code",
   "execution_count": 4,
   "id": "11f688db",
   "metadata": {},
   "outputs": [
    {
     "data": {
      "text/html": [
       "<div>\n",
       "<style scoped>\n",
       "    .dataframe tbody tr th:only-of-type {\n",
       "        vertical-align: middle;\n",
       "    }\n",
       "\n",
       "    .dataframe tbody tr th {\n",
       "        vertical-align: top;\n",
       "    }\n",
       "\n",
       "    .dataframe thead th {\n",
       "        text-align: right;\n",
       "    }\n",
       "</style>\n",
       "<table border=\"1\" class=\"dataframe\">\n",
       "  <thead>\n",
       "    <tr style=\"text-align: right;\">\n",
       "      <th></th>\n",
       "      <th>order_id</th>\n",
       "      <th>user_id</th>\n",
       "      <th>order_number</th>\n",
       "      <th>order_dow</th>\n",
       "      <th>order_hour_of_day</th>\n",
       "      <th>days_since_prior_order</th>\n",
       "    </tr>\n",
       "  </thead>\n",
       "  <tbody>\n",
       "    <tr>\n",
       "      <th>0</th>\n",
       "      <td>1515936</td>\n",
       "      <td>183418</td>\n",
       "      <td>11</td>\n",
       "      <td>6</td>\n",
       "      <td>13</td>\n",
       "      <td>30.0</td>\n",
       "    </tr>\n",
       "    <tr>\n",
       "      <th>1</th>\n",
       "      <td>1690866</td>\n",
       "      <td>163593</td>\n",
       "      <td>5</td>\n",
       "      <td>5</td>\n",
       "      <td>12</td>\n",
       "      <td>9.0</td>\n",
       "    </tr>\n",
       "    <tr>\n",
       "      <th>2</th>\n",
       "      <td>1454967</td>\n",
       "      <td>39980</td>\n",
       "      <td>4</td>\n",
       "      <td>5</td>\n",
       "      <td>19</td>\n",
       "      <td>2.0</td>\n",
       "    </tr>\n",
       "    <tr>\n",
       "      <th>3</th>\n",
       "      <td>1768857</td>\n",
       "      <td>82516</td>\n",
       "      <td>56</td>\n",
       "      <td>0</td>\n",
       "      <td>20</td>\n",
       "      <td>10.0</td>\n",
       "    </tr>\n",
       "    <tr>\n",
       "      <th>4</th>\n",
       "      <td>3007858</td>\n",
       "      <td>196724</td>\n",
       "      <td>2</td>\n",
       "      <td>4</td>\n",
       "      <td>12</td>\n",
       "      <td>17.0</td>\n",
       "    </tr>\n",
       "    <tr>\n",
       "      <th>5</th>\n",
       "      <td>1843871</td>\n",
       "      <td>20084</td>\n",
       "      <td>5</td>\n",
       "      <td>0</td>\n",
       "      <td>11</td>\n",
       "      <td>15.0</td>\n",
       "    </tr>\n",
       "    <tr>\n",
       "      <th>6</th>\n",
       "      <td>2511640</td>\n",
       "      <td>148233</td>\n",
       "      <td>40</td>\n",
       "      <td>3</td>\n",
       "      <td>8</td>\n",
       "      <td>2.0</td>\n",
       "    </tr>\n",
       "    <tr>\n",
       "      <th>7</th>\n",
       "      <td>2521283</td>\n",
       "      <td>97711</td>\n",
       "      <td>2</td>\n",
       "      <td>0</td>\n",
       "      <td>18</td>\n",
       "      <td>22.0</td>\n",
       "    </tr>\n",
       "    <tr>\n",
       "      <th>8</th>\n",
       "      <td>2266494</td>\n",
       "      <td>34954</td>\n",
       "      <td>40</td>\n",
       "      <td>5</td>\n",
       "      <td>15</td>\n",
       "      <td>4.0</td>\n",
       "    </tr>\n",
       "    <tr>\n",
       "      <th>9</th>\n",
       "      <td>446014</td>\n",
       "      <td>15356</td>\n",
       "      <td>2</td>\n",
       "      <td>4</td>\n",
       "      <td>8</td>\n",
       "      <td>10.0</td>\n",
       "    </tr>\n",
       "  </tbody>\n",
       "</table>\n",
       "</div>"
      ],
      "text/plain": [
       "   order_id  user_id  order_number  order_dow  order_hour_of_day  \\\n",
       "0   1515936   183418            11          6                 13   \n",
       "1   1690866   163593             5          5                 12   \n",
       "2   1454967    39980             4          5                 19   \n",
       "3   1768857    82516            56          0                 20   \n",
       "4   3007858   196724             2          4                 12   \n",
       "5   1843871    20084             5          0                 11   \n",
       "6   2511640   148233            40          3                  8   \n",
       "7   2521283    97711             2          0                 18   \n",
       "8   2266494    34954            40          5                 15   \n",
       "9    446014    15356             2          4                  8   \n",
       "\n",
       "   days_since_prior_order  \n",
       "0                    30.0  \n",
       "1                     9.0  \n",
       "2                     2.0  \n",
       "3                    10.0  \n",
       "4                    17.0  \n",
       "5                    15.0  \n",
       "6                     2.0  \n",
       "7                    22.0  \n",
       "8                     4.0  \n",
       "9                    10.0  "
      ]
     },
     "execution_count": 4,
     "metadata": {},
     "output_type": "execute_result"
    }
   ],
   "source": [
    "# Printing the first 10 rows of the dataframe\n",
    "orders.head(10)"
   ]
  },
  {
   "attachments": {},
   "cell_type": "markdown",
   "id": "337a32bd",
   "metadata": {},
   "source": [
    "<hr style=\"margin-bottom: 40px;\">\n",
    "\n",
    "## 2. Reading data from `products.csv`  \n",
    "[Back to Contents](#contents)"
   ]
  },
  {
   "attachments": {},
   "cell_type": "markdown",
   "id": "ac605b15",
   "metadata": {},
   "source": [
    "Open the data file `products.csv` from `datasets` folder and look at the general contents of the table. The seperator of this file is `;`."
   ]
  },
  {
   "attachments": {},
   "cell_type": "markdown",
   "id": "abd2d5aa",
   "metadata": {},
   "source": [
    "Read the file and save it in `products` variable:"
   ]
  },
  {
   "cell_type": "code",
   "execution_count": 5,
   "id": "d8370c05",
   "metadata": {},
   "outputs": [],
   "source": [
    "# Reading products.csv file with ';' as separator\n",
    "products = pd.read_csv('datasets/products.csv', sep=';')"
   ]
  },
  {
   "attachments": {},
   "cell_type": "markdown",
   "id": "ba8995a2",
   "metadata": {},
   "source": [
    "Get the information of the data in the DataFrame - `products`:"
   ]
  },
  {
   "cell_type": "code",
   "execution_count": 6,
   "id": "6fc81694",
   "metadata": {
    "scrolled": true
   },
   "outputs": [
    {
     "name": "stdout",
     "output_type": "stream",
     "text": [
      "<class 'pandas.core.frame.DataFrame'>\n",
      "RangeIndex: 49694 entries, 0 to 49693\n",
      "Data columns (total 4 columns):\n",
      " #   Column         Non-Null Count  Dtype \n",
      "---  ------         --------------  ----- \n",
      " 0   product_id     49694 non-null  int64 \n",
      " 1   product_name   48436 non-null  object\n",
      " 2   aisle_id       49694 non-null  int64 \n",
      " 3   department_id  49694 non-null  int64 \n",
      "dtypes: int64(3), object(1)\n",
      "memory usage: 1.5+ MB\n"
     ]
    }
   ],
   "source": [
    "# Getting the general information about the data in the dataframe\n",
    "products.info()"
   ]
  },
  {
   "attachments": {},
   "cell_type": "markdown",
   "id": "7fd75ff2",
   "metadata": {},
   "source": [
    "The Dataframe - `products` has a total of **49694 rows and 4 columns**.  \n",
    "\n",
    "The **columns description** are as follows:  \n",
    "- `product_id`: ID number that uniquely identifies each product\n",
    "- `product_name`: name of the product\n",
    "- `aisle_id`: ID number that uniquely identifies each grocery aisle category\n",
    "- `department_id`: ID number that uniquely identifies each grocery department category \n",
    "\n",
    "Also, it seems that `product_name` column has some misssing values."
   ]
  },
  {
   "attachments": {},
   "cell_type": "markdown",
   "id": "18648d66",
   "metadata": {},
   "source": [
    "Print the first 10 table rows:"
   ]
  },
  {
   "cell_type": "code",
   "execution_count": 7,
   "id": "3ca4c033",
   "metadata": {},
   "outputs": [
    {
     "data": {
      "text/html": [
       "<div>\n",
       "<style scoped>\n",
       "    .dataframe tbody tr th:only-of-type {\n",
       "        vertical-align: middle;\n",
       "    }\n",
       "\n",
       "    .dataframe tbody tr th {\n",
       "        vertical-align: top;\n",
       "    }\n",
       "\n",
       "    .dataframe thead th {\n",
       "        text-align: right;\n",
       "    }\n",
       "</style>\n",
       "<table border=\"1\" class=\"dataframe\">\n",
       "  <thead>\n",
       "    <tr style=\"text-align: right;\">\n",
       "      <th></th>\n",
       "      <th>product_id</th>\n",
       "      <th>product_name</th>\n",
       "      <th>aisle_id</th>\n",
       "      <th>department_id</th>\n",
       "    </tr>\n",
       "  </thead>\n",
       "  <tbody>\n",
       "    <tr>\n",
       "      <th>0</th>\n",
       "      <td>1</td>\n",
       "      <td>Chocolate Sandwich Cookies</td>\n",
       "      <td>61</td>\n",
       "      <td>19</td>\n",
       "    </tr>\n",
       "    <tr>\n",
       "      <th>1</th>\n",
       "      <td>2</td>\n",
       "      <td>All-Seasons Salt</td>\n",
       "      <td>104</td>\n",
       "      <td>13</td>\n",
       "    </tr>\n",
       "    <tr>\n",
       "      <th>2</th>\n",
       "      <td>3</td>\n",
       "      <td>Robust Golden Unsweetened Oolong Tea</td>\n",
       "      <td>94</td>\n",
       "      <td>7</td>\n",
       "    </tr>\n",
       "    <tr>\n",
       "      <th>3</th>\n",
       "      <td>4</td>\n",
       "      <td>Smart Ones Classic Favorites Mini Rigatoni Wit...</td>\n",
       "      <td>38</td>\n",
       "      <td>1</td>\n",
       "    </tr>\n",
       "    <tr>\n",
       "      <th>4</th>\n",
       "      <td>5</td>\n",
       "      <td>Green Chile Anytime Sauce</td>\n",
       "      <td>5</td>\n",
       "      <td>13</td>\n",
       "    </tr>\n",
       "    <tr>\n",
       "      <th>5</th>\n",
       "      <td>6</td>\n",
       "      <td>Dry Nose Oil</td>\n",
       "      <td>11</td>\n",
       "      <td>11</td>\n",
       "    </tr>\n",
       "    <tr>\n",
       "      <th>6</th>\n",
       "      <td>7</td>\n",
       "      <td>Pure Coconut Water With Orange</td>\n",
       "      <td>98</td>\n",
       "      <td>7</td>\n",
       "    </tr>\n",
       "    <tr>\n",
       "      <th>7</th>\n",
       "      <td>8</td>\n",
       "      <td>Cut Russet Potatoes Steam N' Mash</td>\n",
       "      <td>116</td>\n",
       "      <td>1</td>\n",
       "    </tr>\n",
       "    <tr>\n",
       "      <th>8</th>\n",
       "      <td>9</td>\n",
       "      <td>Light Strawberry Blueberry Yogurt</td>\n",
       "      <td>120</td>\n",
       "      <td>16</td>\n",
       "    </tr>\n",
       "    <tr>\n",
       "      <th>9</th>\n",
       "      <td>10</td>\n",
       "      <td>Sparkling Orange Juice &amp; Prickly Pear Beverage</td>\n",
       "      <td>115</td>\n",
       "      <td>7</td>\n",
       "    </tr>\n",
       "  </tbody>\n",
       "</table>\n",
       "</div>"
      ],
      "text/plain": [
       "   product_id                                       product_name  aisle_id  \\\n",
       "0           1                         Chocolate Sandwich Cookies        61   \n",
       "1           2                                   All-Seasons Salt       104   \n",
       "2           3               Robust Golden Unsweetened Oolong Tea        94   \n",
       "3           4  Smart Ones Classic Favorites Mini Rigatoni Wit...        38   \n",
       "4           5                          Green Chile Anytime Sauce         5   \n",
       "5           6                                       Dry Nose Oil        11   \n",
       "6           7                     Pure Coconut Water With Orange        98   \n",
       "7           8                  Cut Russet Potatoes Steam N' Mash       116   \n",
       "8           9                  Light Strawberry Blueberry Yogurt       120   \n",
       "9          10     Sparkling Orange Juice & Prickly Pear Beverage       115   \n",
       "\n",
       "   department_id  \n",
       "0             19  \n",
       "1             13  \n",
       "2              7  \n",
       "3              1  \n",
       "4             13  \n",
       "5             11  \n",
       "6              7  \n",
       "7              1  \n",
       "8             16  \n",
       "9              7  "
      ]
     },
     "execution_count": 7,
     "metadata": {},
     "output_type": "execute_result"
    }
   ],
   "source": [
    "# Printing the first 10 rows of the dataframe\n",
    "products.head(10)"
   ]
  },
  {
   "attachments": {},
   "cell_type": "markdown",
   "id": "d68d48f6",
   "metadata": {},
   "source": [
    " <hr style=\"margin-bottom: 40px;\">\n",
    " \n",
    " ## 3. Reading data from `order_products.csv`  \n",
    " [Back to Contents](#contents)"
   ]
  },
  {
   "attachments": {},
   "cell_type": "markdown",
   "id": "ad90e59e",
   "metadata": {},
   "source": [
    "Open the data file `order_products.csv` from `datasets` folder and look at the general contents of the table. The seperator of this file is `;`."
   ]
  },
  {
   "attachments": {},
   "cell_type": "markdown",
   "id": "3f2e08dd",
   "metadata": {},
   "source": [
    "Read the file and save it in `order_products` variable:"
   ]
  },
  {
   "cell_type": "code",
   "execution_count": 8,
   "id": "1a10366c",
   "metadata": {},
   "outputs": [],
   "source": [
    "# Reading order_products.csv file with ';' as separator\n",
    "order_products = pd.read_csv('datasets/order_products.csv', sep=';')"
   ]
  },
  {
   "attachments": {},
   "cell_type": "markdown",
   "id": "7050ae34",
   "metadata": {},
   "source": [
    "Get the information of the data in the DataFrame - `order_products`:"
   ]
  },
  {
   "cell_type": "code",
   "execution_count": 9,
   "id": "798468b9",
   "metadata": {},
   "outputs": [
    {
     "name": "stdout",
     "output_type": "stream",
     "text": [
      "<class 'pandas.core.frame.DataFrame'>\n",
      "RangeIndex: 4545007 entries, 0 to 4545006\n",
      "Data columns (total 4 columns):\n",
      " #   Column             Non-Null Count    Dtype  \n",
      "---  ------             --------------    -----  \n",
      " 0   order_id           4545007 non-null  int64  \n",
      " 1   product_id         4545007 non-null  int64  \n",
      " 2   add_to_cart_order  4544171 non-null  float64\n",
      " 3   reordered          4545007 non-null  int64  \n",
      "dtypes: float64(1), int64(3)\n",
      "memory usage: 138.7 MB\n"
     ]
    }
   ],
   "source": [
    "# Getting the general information about the data in the dataframe\n",
    "order_products.info(show_counts=True)"
   ]
  },
  {
   "attachments": {},
   "cell_type": "markdown",
   "id": "5240115a",
   "metadata": {},
   "source": [
    "The Dataframe - `order_products` has a total of **4545007 rows and 4 columns**.  \n",
    "\n",
    "The **columns description** are as follows:  \n",
    "- `order_id`: ID number that uniquely identifies each order\n",
    "- `product_id`: ID number that uniquely identifies each product\n",
    "- `add_to_cart_order`: the sequential order in which each item was placed in the cart\n",
    "- `reordered`: 0 if the customer has never ordered this product before, 1 if they have\n",
    "\n",
    "Also, it seems that `add_to_cart_order` column has some missing values."
   ]
  },
  {
   "attachments": {},
   "cell_type": "markdown",
   "id": "0a9c7a38",
   "metadata": {},
   "source": [
    "Print the first 10 table rows:"
   ]
  },
  {
   "cell_type": "code",
   "execution_count": 10,
   "id": "d54e3575",
   "metadata": {},
   "outputs": [
    {
     "data": {
      "text/html": [
       "<div>\n",
       "<style scoped>\n",
       "    .dataframe tbody tr th:only-of-type {\n",
       "        vertical-align: middle;\n",
       "    }\n",
       "\n",
       "    .dataframe tbody tr th {\n",
       "        vertical-align: top;\n",
       "    }\n",
       "\n",
       "    .dataframe thead th {\n",
       "        text-align: right;\n",
       "    }\n",
       "</style>\n",
       "<table border=\"1\" class=\"dataframe\">\n",
       "  <thead>\n",
       "    <tr style=\"text-align: right;\">\n",
       "      <th></th>\n",
       "      <th>order_id</th>\n",
       "      <th>product_id</th>\n",
       "      <th>add_to_cart_order</th>\n",
       "      <th>reordered</th>\n",
       "    </tr>\n",
       "  </thead>\n",
       "  <tbody>\n",
       "    <tr>\n",
       "      <th>0</th>\n",
       "      <td>2141543</td>\n",
       "      <td>11440</td>\n",
       "      <td>17.0</td>\n",
       "      <td>0</td>\n",
       "    </tr>\n",
       "    <tr>\n",
       "      <th>1</th>\n",
       "      <td>567889</td>\n",
       "      <td>1560</td>\n",
       "      <td>1.0</td>\n",
       "      <td>1</td>\n",
       "    </tr>\n",
       "    <tr>\n",
       "      <th>2</th>\n",
       "      <td>2261212</td>\n",
       "      <td>26683</td>\n",
       "      <td>1.0</td>\n",
       "      <td>1</td>\n",
       "    </tr>\n",
       "    <tr>\n",
       "      <th>3</th>\n",
       "      <td>491251</td>\n",
       "      <td>8670</td>\n",
       "      <td>35.0</td>\n",
       "      <td>1</td>\n",
       "    </tr>\n",
       "    <tr>\n",
       "      <th>4</th>\n",
       "      <td>2571142</td>\n",
       "      <td>1940</td>\n",
       "      <td>5.0</td>\n",
       "      <td>1</td>\n",
       "    </tr>\n",
       "    <tr>\n",
       "      <th>5</th>\n",
       "      <td>2456893</td>\n",
       "      <td>21616</td>\n",
       "      <td>4.0</td>\n",
       "      <td>1</td>\n",
       "    </tr>\n",
       "    <tr>\n",
       "      <th>6</th>\n",
       "      <td>644579</td>\n",
       "      <td>12341</td>\n",
       "      <td>5.0</td>\n",
       "      <td>1</td>\n",
       "    </tr>\n",
       "    <tr>\n",
       "      <th>7</th>\n",
       "      <td>2231852</td>\n",
       "      <td>44925</td>\n",
       "      <td>10.0</td>\n",
       "      <td>1</td>\n",
       "    </tr>\n",
       "    <tr>\n",
       "      <th>8</th>\n",
       "      <td>3185766</td>\n",
       "      <td>36259</td>\n",
       "      <td>14.0</td>\n",
       "      <td>1</td>\n",
       "    </tr>\n",
       "    <tr>\n",
       "      <th>9</th>\n",
       "      <td>420019</td>\n",
       "      <td>23315</td>\n",
       "      <td>4.0</td>\n",
       "      <td>1</td>\n",
       "    </tr>\n",
       "  </tbody>\n",
       "</table>\n",
       "</div>"
      ],
      "text/plain": [
       "   order_id  product_id  add_to_cart_order  reordered\n",
       "0   2141543       11440               17.0          0\n",
       "1    567889        1560                1.0          1\n",
       "2   2261212       26683                1.0          1\n",
       "3    491251        8670               35.0          1\n",
       "4   2571142        1940                5.0          1\n",
       "5   2456893       21616                4.0          1\n",
       "6    644579       12341                5.0          1\n",
       "7   2231852       44925               10.0          1\n",
       "8   3185766       36259               14.0          1\n",
       "9    420019       23315                4.0          1"
      ]
     },
     "execution_count": 10,
     "metadata": {},
     "output_type": "execute_result"
    }
   ],
   "source": [
    "# Printing the first 10 rows of the dataframe\n",
    "order_products.head(10)"
   ]
  },
  {
   "attachments": {},
   "cell_type": "markdown",
   "id": "2912f5c7",
   "metadata": {},
   "source": [
    " <hr style=\"margin-bottom: 40px;\">\n",
    " \n",
    " ## 4. Reading data from `aisles.csv`  \n",
    " [Back to Contents](#contents)"
   ]
  },
  {
   "attachments": {},
   "cell_type": "markdown",
   "id": "a0864e17",
   "metadata": {},
   "source": [
    "Open the data file `aisles.csv` from `datasets` folder and look at the general contents of the table. The seperator of this file is `;`."
   ]
  },
  {
   "attachments": {},
   "cell_type": "markdown",
   "id": "06c46c2e",
   "metadata": {},
   "source": [
    "Read the file and save it in `aisles` variable:"
   ]
  },
  {
   "cell_type": "code",
   "execution_count": 11,
   "id": "34be3001",
   "metadata": {},
   "outputs": [],
   "source": [
    "# Reading order_products.csv file with ';' as separator\n",
    "aisles = pd.read_csv('datasets/aisles.csv', sep=';')"
   ]
  },
  {
   "attachments": {},
   "cell_type": "markdown",
   "id": "525ba865",
   "metadata": {},
   "source": [
    "Get the information of the data in the DataFrame - `aisles`:"
   ]
  },
  {
   "cell_type": "code",
   "execution_count": 12,
   "id": "744ef87b",
   "metadata": {
    "scrolled": true
   },
   "outputs": [
    {
     "name": "stdout",
     "output_type": "stream",
     "text": [
      "<class 'pandas.core.frame.DataFrame'>\n",
      "RangeIndex: 134 entries, 0 to 133\n",
      "Data columns (total 2 columns):\n",
      " #   Column    Non-Null Count  Dtype \n",
      "---  ------    --------------  ----- \n",
      " 0   aisle_id  134 non-null    int64 \n",
      " 1   aisle     134 non-null    object\n",
      "dtypes: int64(1), object(1)\n",
      "memory usage: 2.2+ KB\n"
     ]
    }
   ],
   "source": [
    "# Getting the general information about the data in the dataframe\n",
    "aisles.info()"
   ]
  },
  {
   "attachments": {},
   "cell_type": "markdown",
   "id": "0d07aee0",
   "metadata": {},
   "source": [
    "The Dataframe - `aisles` has a total of **134 rows and 2 columns**.  \n",
    "\n",
    "The **columns description** are as follows:  \n",
    "- `aisle_id`: ID number that uniquely identifies each grocery aisle category\n",
    "- `aisle`: name of the aisle\n",
    "\n",
    "There are no missing values in any of the columns of the table."
   ]
  },
  {
   "attachments": {},
   "cell_type": "markdown",
   "id": "c56ea5f6",
   "metadata": {},
   "source": [
    "Print the first 10 table rows:"
   ]
  },
  {
   "cell_type": "code",
   "execution_count": 13,
   "id": "7613b996",
   "metadata": {},
   "outputs": [
    {
     "data": {
      "text/html": [
       "<div>\n",
       "<style scoped>\n",
       "    .dataframe tbody tr th:only-of-type {\n",
       "        vertical-align: middle;\n",
       "    }\n",
       "\n",
       "    .dataframe tbody tr th {\n",
       "        vertical-align: top;\n",
       "    }\n",
       "\n",
       "    .dataframe thead th {\n",
       "        text-align: right;\n",
       "    }\n",
       "</style>\n",
       "<table border=\"1\" class=\"dataframe\">\n",
       "  <thead>\n",
       "    <tr style=\"text-align: right;\">\n",
       "      <th></th>\n",
       "      <th>aisle_id</th>\n",
       "      <th>aisle</th>\n",
       "    </tr>\n",
       "  </thead>\n",
       "  <tbody>\n",
       "    <tr>\n",
       "      <th>0</th>\n",
       "      <td>1</td>\n",
       "      <td>prepared soups salads</td>\n",
       "    </tr>\n",
       "    <tr>\n",
       "      <th>1</th>\n",
       "      <td>2</td>\n",
       "      <td>specialty cheeses</td>\n",
       "    </tr>\n",
       "    <tr>\n",
       "      <th>2</th>\n",
       "      <td>3</td>\n",
       "      <td>energy granola bars</td>\n",
       "    </tr>\n",
       "    <tr>\n",
       "      <th>3</th>\n",
       "      <td>4</td>\n",
       "      <td>instant foods</td>\n",
       "    </tr>\n",
       "    <tr>\n",
       "      <th>4</th>\n",
       "      <td>5</td>\n",
       "      <td>marinades meat preparation</td>\n",
       "    </tr>\n",
       "    <tr>\n",
       "      <th>5</th>\n",
       "      <td>6</td>\n",
       "      <td>other</td>\n",
       "    </tr>\n",
       "    <tr>\n",
       "      <th>6</th>\n",
       "      <td>7</td>\n",
       "      <td>packaged meat</td>\n",
       "    </tr>\n",
       "    <tr>\n",
       "      <th>7</th>\n",
       "      <td>8</td>\n",
       "      <td>bakery desserts</td>\n",
       "    </tr>\n",
       "    <tr>\n",
       "      <th>8</th>\n",
       "      <td>9</td>\n",
       "      <td>pasta sauce</td>\n",
       "    </tr>\n",
       "    <tr>\n",
       "      <th>9</th>\n",
       "      <td>10</td>\n",
       "      <td>kitchen supplies</td>\n",
       "    </tr>\n",
       "  </tbody>\n",
       "</table>\n",
       "</div>"
      ],
      "text/plain": [
       "   aisle_id                       aisle\n",
       "0         1       prepared soups salads\n",
       "1         2           specialty cheeses\n",
       "2         3         energy granola bars\n",
       "3         4               instant foods\n",
       "4         5  marinades meat preparation\n",
       "5         6                       other\n",
       "6         7               packaged meat\n",
       "7         8             bakery desserts\n",
       "8         9                 pasta sauce\n",
       "9        10            kitchen supplies"
      ]
     },
     "execution_count": 13,
     "metadata": {},
     "output_type": "execute_result"
    }
   ],
   "source": [
    "# Printing the first 10 rows of the dataframe\n",
    "aisles.head(10)"
   ]
  },
  {
   "attachments": {},
   "cell_type": "markdown",
   "id": "8fc1fc2b",
   "metadata": {},
   "source": [
    " <hr style=\"margin-bottom: 40px;\">\n",
    " \n",
    " ## 5. Reading data from `departments.csv`  \n",
    " [Back to Contents](#contents)"
   ]
  },
  {
   "attachments": {},
   "cell_type": "markdown",
   "id": "df992634",
   "metadata": {},
   "source": [
    "Open the data file `departments.csv` from `datasets` folder and look at the general contents of the table. The seperator of this file is `;`."
   ]
  },
  {
   "attachments": {},
   "cell_type": "markdown",
   "id": "07d481c2",
   "metadata": {},
   "source": [
    "Read the file and save it in `departments` variable:"
   ]
  },
  {
   "cell_type": "code",
   "execution_count": 14,
   "id": "a4270c43",
   "metadata": {},
   "outputs": [],
   "source": [
    "# Reading departments.csv file with ';' as separator\n",
    "departments = pd.read_csv('datasets/departments.csv', sep=';')"
   ]
  },
  {
   "attachments": {},
   "cell_type": "markdown",
   "id": "c3724624",
   "metadata": {},
   "source": [
    "Get the information of the data in the DataFrame - `departments`:"
   ]
  },
  {
   "cell_type": "code",
   "execution_count": 15,
   "id": "f01c3f13",
   "metadata": {},
   "outputs": [
    {
     "name": "stdout",
     "output_type": "stream",
     "text": [
      "<class 'pandas.core.frame.DataFrame'>\n",
      "RangeIndex: 21 entries, 0 to 20\n",
      "Data columns (total 2 columns):\n",
      " #   Column         Non-Null Count  Dtype \n",
      "---  ------         --------------  ----- \n",
      " 0   department_id  21 non-null     int64 \n",
      " 1   department     21 non-null     object\n",
      "dtypes: int64(1), object(1)\n",
      "memory usage: 464.0+ bytes\n"
     ]
    }
   ],
   "source": [
    "# Getting the general information about the data in the dataframe\n",
    "departments.info()"
   ]
  },
  {
   "attachments": {},
   "cell_type": "markdown",
   "id": "b1f58aec",
   "metadata": {},
   "source": [
    "The Dataframe - `departments` has a total of **21 rows and 2 columns**.  \n",
    "\n",
    "The **columns description** are as follows:  \n",
    "- `department_id`: ID number that uniquely identifies each grocery department category\n",
    "- `department`: name of the department\n",
    "\n",
    "There are no missing values in any of the columns of the table."
   ]
  },
  {
   "attachments": {},
   "cell_type": "markdown",
   "id": "64c0f1bd",
   "metadata": {},
   "source": [
    "Print the first 10 table rows:"
   ]
  },
  {
   "cell_type": "code",
   "execution_count": 16,
   "id": "610cae42",
   "metadata": {},
   "outputs": [
    {
     "data": {
      "text/html": [
       "<div>\n",
       "<style scoped>\n",
       "    .dataframe tbody tr th:only-of-type {\n",
       "        vertical-align: middle;\n",
       "    }\n",
       "\n",
       "    .dataframe tbody tr th {\n",
       "        vertical-align: top;\n",
       "    }\n",
       "\n",
       "    .dataframe thead th {\n",
       "        text-align: right;\n",
       "    }\n",
       "</style>\n",
       "<table border=\"1\" class=\"dataframe\">\n",
       "  <thead>\n",
       "    <tr style=\"text-align: right;\">\n",
       "      <th></th>\n",
       "      <th>department_id</th>\n",
       "      <th>department</th>\n",
       "    </tr>\n",
       "  </thead>\n",
       "  <tbody>\n",
       "    <tr>\n",
       "      <th>0</th>\n",
       "      <td>1</td>\n",
       "      <td>frozen</td>\n",
       "    </tr>\n",
       "    <tr>\n",
       "      <th>1</th>\n",
       "      <td>2</td>\n",
       "      <td>other</td>\n",
       "    </tr>\n",
       "    <tr>\n",
       "      <th>2</th>\n",
       "      <td>3</td>\n",
       "      <td>bakery</td>\n",
       "    </tr>\n",
       "    <tr>\n",
       "      <th>3</th>\n",
       "      <td>4</td>\n",
       "      <td>produce</td>\n",
       "    </tr>\n",
       "    <tr>\n",
       "      <th>4</th>\n",
       "      <td>5</td>\n",
       "      <td>alcohol</td>\n",
       "    </tr>\n",
       "    <tr>\n",
       "      <th>5</th>\n",
       "      <td>6</td>\n",
       "      <td>international</td>\n",
       "    </tr>\n",
       "    <tr>\n",
       "      <th>6</th>\n",
       "      <td>7</td>\n",
       "      <td>beverages</td>\n",
       "    </tr>\n",
       "    <tr>\n",
       "      <th>7</th>\n",
       "      <td>8</td>\n",
       "      <td>pets</td>\n",
       "    </tr>\n",
       "    <tr>\n",
       "      <th>8</th>\n",
       "      <td>9</td>\n",
       "      <td>dry goods pasta</td>\n",
       "    </tr>\n",
       "    <tr>\n",
       "      <th>9</th>\n",
       "      <td>10</td>\n",
       "      <td>bulk</td>\n",
       "    </tr>\n",
       "  </tbody>\n",
       "</table>\n",
       "</div>"
      ],
      "text/plain": [
       "   department_id       department\n",
       "0              1           frozen\n",
       "1              2            other\n",
       "2              3           bakery\n",
       "3              4          produce\n",
       "4              5          alcohol\n",
       "5              6    international\n",
       "6              7        beverages\n",
       "7              8             pets\n",
       "8              9  dry goods pasta\n",
       "9             10             bulk"
      ]
     },
     "execution_count": 16,
     "metadata": {},
     "output_type": "execute_result"
    }
   ],
   "source": [
    "# Printing the first 10 rows of the dataframe\n",
    "departments.head(10)"
   ]
  },
  {
   "attachments": {},
   "cell_type": "markdown",
   "id": "07357848-dc64-4156-9cc3-01ff4365226d",
   "metadata": {},
   "source": [
    "![purple-divider](https://user-images.githubusercontent.com/7065401/52071927-c1cd7100-2562-11e9-908a-dde91ba14e59.png)\n",
    "\n",
    "# ❤️‍🩹 Find and remove duplicate values <a id='find_and_remove_duplicates'></a>  \n",
    "[Back to Contents](#contents)"
   ]
  },
  {
   "attachments": {},
   "cell_type": "markdown",
   "id": "f179f0a9",
   "metadata": {},
   "source": [
    "<hr style=\"margin-bottom: 40px;\">\n",
    "\n",
    "## 1. `orders` data frame  \n",
    "[Back to Contents](#contents)"
   ]
  },
  {
   "attachments": {},
   "cell_type": "markdown",
   "id": "5b9f6d25",
   "metadata": {},
   "source": [
    "We can use the `duplicated()` method together with `sum()` to **get the number of duplicate rows in the DataFrame - `orders`**. `duplicated()` method returns a boolean Series (True/False) denoting duplicate rows. So, we could apply `sum()` over that series to get a summation of all the True(s) - and False(s)."
   ]
  },
  {
   "cell_type": "code",
   "execution_count": 17,
   "id": "b99297a5-405a-463d-8535-9adc3da4ad74",
   "metadata": {},
   "outputs": [
    {
     "data": {
      "text/plain": [
       "15"
      ]
     },
     "execution_count": 17,
     "metadata": {},
     "output_type": "execute_result"
    }
   ],
   "source": [
    "# Checking for duplicated orders\n",
    "orders.duplicated().sum()"
   ]
  },
  {
   "attachments": {},
   "cell_type": "markdown",
   "id": "85ae3c73",
   "metadata": {},
   "source": [
    "**There are 15 duplicate rows in the `orders` Dataframe i.e. 15 duplicate orders.**"
   ]
  },
  {
   "attachments": {},
   "cell_type": "markdown",
   "id": "6b146de7",
   "metadata": {},
   "source": [
    "Let's try to peek into the data to see if everything else is accurate. **List out all the orders placed on Wednesday at 2.00 AM**. In order to filter the data, we need to first look at the description of the columns of the Dataframe - `orders`. As per the description:\n",
    "- `order_dow`: day of the week that the order placed (which day is 0 is uncertain)\n",
    "- `order_hour_of_day`: hour of the day that the order was placed  \n",
    "\n",
    "Although `order_dow` represents the day of the week that the order was placed but **whether to consider 0 as Sunday or not** is not clear. But, let's see  in which format does `order_hour_of_day` stores the hour - 12-hour or 24-hour? Let's print the list of unique values in `order_hour_of_day` column. We could use `unique()` method on the Series - `orders['order_hour_of_day']` for doing so as `unique()` method returns an array of unique values in order of their appearance in the Series."
   ]
  },
  {
   "cell_type": "code",
   "execution_count": 18,
   "id": "96c90453",
   "metadata": {},
   "outputs": [
    {
     "data": {
      "text/plain": [
       "array([13, 12, 19, 20, 11,  8, 18, 15, 16,  9, 22, 10,  0, 14, 17,  1,  7,\n",
       "        6,  2, 21,  3, 23,  5,  4])"
      ]
     },
     "execution_count": 18,
     "metadata": {},
     "output_type": "execute_result"
    }
   ],
   "source": [
    "# Printing the list of unique values in order_hour_of_day column\n",
    "orders['order_hour_of_day'].unique()"
   ]
  },
  {
   "attachments": {},
   "cell_type": "markdown",
   "id": "2c845458",
   "metadata": {},
   "source": [
    "After looking at the values above, we can now conclude that `order_hour_of_day` column contains **hour of the day in 24-hour format**."
   ]
  },
  {
   "attachments": {},
   "cell_type": "markdown",
   "id": "8ebf2a65",
   "metadata": {},
   "source": [
    "So, let's **filter out all the orders placed on Wednesday at 2:00 AM, assuming that _0_ means _Saturday_**:"
   ]
  },
  {
   "cell_type": "code",
   "execution_count": 19,
   "id": "0d44de5d",
   "metadata": {
    "scrolled": true
   },
   "outputs": [
    {
     "data": {
      "text/html": [
       "<div>\n",
       "<style scoped>\n",
       "    .dataframe tbody tr th:only-of-type {\n",
       "        vertical-align: middle;\n",
       "    }\n",
       "\n",
       "    .dataframe tbody tr th {\n",
       "        vertical-align: top;\n",
       "    }\n",
       "\n",
       "    .dataframe thead th {\n",
       "        text-align: right;\n",
       "    }\n",
       "</style>\n",
       "<table border=\"1\" class=\"dataframe\">\n",
       "  <thead>\n",
       "    <tr style=\"text-align: right;\">\n",
       "      <th></th>\n",
       "      <th>order_id</th>\n",
       "      <th>user_id</th>\n",
       "      <th>order_number</th>\n",
       "      <th>order_dow</th>\n",
       "      <th>order_hour_of_day</th>\n",
       "      <th>days_since_prior_order</th>\n",
       "    </tr>\n",
       "  </thead>\n",
       "  <tbody>\n",
       "    <tr>\n",
       "      <th>2124</th>\n",
       "      <td>401544</td>\n",
       "      <td>80955</td>\n",
       "      <td>72</td>\n",
       "      <td>4</td>\n",
       "      <td>2</td>\n",
       "      <td>2.0</td>\n",
       "    </tr>\n",
       "    <tr>\n",
       "      <th>14847</th>\n",
       "      <td>1913472</td>\n",
       "      <td>138992</td>\n",
       "      <td>16</td>\n",
       "      <td>4</td>\n",
       "      <td>2</td>\n",
       "      <td>6.0</td>\n",
       "    </tr>\n",
       "    <tr>\n",
       "      <th>16116</th>\n",
       "      <td>2796392</td>\n",
       "      <td>154904</td>\n",
       "      <td>12</td>\n",
       "      <td>4</td>\n",
       "      <td>2</td>\n",
       "      <td>13.0</td>\n",
       "    </tr>\n",
       "    <tr>\n",
       "      <th>16471</th>\n",
       "      <td>2209130</td>\n",
       "      <td>72786</td>\n",
       "      <td>5</td>\n",
       "      <td>4</td>\n",
       "      <td>2</td>\n",
       "      <td>30.0</td>\n",
       "    </tr>\n",
       "    <tr>\n",
       "      <th>32120</th>\n",
       "      <td>2235095</td>\n",
       "      <td>89980</td>\n",
       "      <td>18</td>\n",
       "      <td>4</td>\n",
       "      <td>2</td>\n",
       "      <td>7.0</td>\n",
       "    </tr>\n",
       "    <tr>\n",
       "      <th>...</th>\n",
       "      <td>...</td>\n",
       "      <td>...</td>\n",
       "      <td>...</td>\n",
       "      <td>...</td>\n",
       "      <td>...</td>\n",
       "      <td>...</td>\n",
       "    </tr>\n",
       "    <tr>\n",
       "      <th>467118</th>\n",
       "      <td>3210362</td>\n",
       "      <td>51765</td>\n",
       "      <td>22</td>\n",
       "      <td>4</td>\n",
       "      <td>2</td>\n",
       "      <td>5.0</td>\n",
       "    </tr>\n",
       "    <tr>\n",
       "      <th>470642</th>\n",
       "      <td>2205284</td>\n",
       "      <td>121327</td>\n",
       "      <td>33</td>\n",
       "      <td>4</td>\n",
       "      <td>2</td>\n",
       "      <td>2.0</td>\n",
       "    </tr>\n",
       "    <tr>\n",
       "      <th>472604</th>\n",
       "      <td>2101463</td>\n",
       "      <td>60877</td>\n",
       "      <td>6</td>\n",
       "      <td>4</td>\n",
       "      <td>2</td>\n",
       "      <td>30.0</td>\n",
       "    </tr>\n",
       "    <tr>\n",
       "      <th>477497</th>\n",
       "      <td>776659</td>\n",
       "      <td>111694</td>\n",
       "      <td>9</td>\n",
       "      <td>4</td>\n",
       "      <td>2</td>\n",
       "      <td>15.0</td>\n",
       "    </tr>\n",
       "    <tr>\n",
       "      <th>478126</th>\n",
       "      <td>852233</td>\n",
       "      <td>71024</td>\n",
       "      <td>1</td>\n",
       "      <td>4</td>\n",
       "      <td>2</td>\n",
       "      <td>NaN</td>\n",
       "    </tr>\n",
       "  </tbody>\n",
       "</table>\n",
       "<p>114 rows × 6 columns</p>\n",
       "</div>"
      ],
      "text/plain": [
       "        order_id  user_id  order_number  order_dow  order_hour_of_day  \\\n",
       "2124      401544    80955            72          4                  2   \n",
       "14847    1913472   138992            16          4                  2   \n",
       "16116    2796392   154904            12          4                  2   \n",
       "16471    2209130    72786             5          4                  2   \n",
       "32120    2235095    89980            18          4                  2   \n",
       "...          ...      ...           ...        ...                ...   \n",
       "467118   3210362    51765            22          4                  2   \n",
       "470642   2205284   121327            33          4                  2   \n",
       "472604   2101463    60877             6          4                  2   \n",
       "477497    776659   111694             9          4                  2   \n",
       "478126    852233    71024             1          4                  2   \n",
       "\n",
       "        days_since_prior_order  \n",
       "2124                       2.0  \n",
       "14847                      6.0  \n",
       "16116                     13.0  \n",
       "16471                     30.0  \n",
       "32120                      7.0  \n",
       "...                        ...  \n",
       "467118                     5.0  \n",
       "470642                     2.0  \n",
       "472604                    30.0  \n",
       "477497                    15.0  \n",
       "478126                     NaN  \n",
       "\n",
       "[114 rows x 6 columns]"
      ]
     },
     "execution_count": 19,
     "metadata": {},
     "output_type": "execute_result"
    }
   ],
   "source": [
    "# Checking for all orders placed Wednesday at 2:00 AM, assuming that 0 means Saturday i.e. Wednesday will be day no. 4\n",
    "orders[(orders['order_dow'] == 4) & (orders['order_hour_of_day'] == 2)]"
   ]
  },
  {
   "attachments": {},
   "cell_type": "markdown",
   "id": "7a2825b0",
   "metadata": {},
   "source": [
    "We already found out that there are 15 duplicate rows in the Dataframe - `orders`. Let's **get rid of them using `drop_duplicates()` and reset the Dataframe index using `reset_index(drop=True)`**."
   ]
  },
  {
   "cell_type": "code",
   "execution_count": 20,
   "id": "480563c7",
   "metadata": {},
   "outputs": [],
   "source": [
    "# Removing duplicate orders\n",
    "orders = orders.drop_duplicates().reset_index(drop=True)"
   ]
  },
  {
   "attachments": {},
   "cell_type": "markdown",
   "id": "aa01f096",
   "metadata": {},
   "source": [
    "Perfect! Let's **double check for duplicate rows using `duplicated()` method together with `sum()`**. `duplicated()` method returns a boolean Series denoting duplicate rows. We should get a sum of zero."
   ]
  },
  {
   "cell_type": "code",
   "execution_count": 21,
   "id": "0b2396a2",
   "metadata": {},
   "outputs": [
    {
     "data": {
      "text/plain": [
       "0"
      ]
     },
     "execution_count": 21,
     "metadata": {},
     "output_type": "execute_result"
    }
   ],
   "source": [
    "# Double checking for duplicate rows\n",
    "orders.duplicated().sum()"
   ]
  },
  {
   "attachments": {},
   "cell_type": "markdown",
   "id": "fd359ce9",
   "metadata": {},
   "source": [
    "Awesome! **We have successfully eliminated all the duplicate records from our table**."
   ]
  },
  {
   "attachments": {},
   "cell_type": "markdown",
   "id": "3f00e1d4",
   "metadata": {},
   "source": [
    "We have checked for duplicate rows in the `orders` Dataframe but **let's see if we have duplicate order IDs**. Since, this time we want to find out if we have any duplicate order IDs, we will first get a Series of data for `order_id` column and then, apply `dupliacted()` method along with `sum()` on it."
   ]
  },
  {
   "cell_type": "code",
   "execution_count": 22,
   "id": "f6113ef1",
   "metadata": {},
   "outputs": [
    {
     "data": {
      "text/plain": [
       "0"
      ]
     },
     "execution_count": 22,
     "metadata": {},
     "output_type": "execute_result"
    }
   ],
   "source": [
    "# Double checking for duplicate order IDs only\n",
    "orders['order_id'].duplicated().sum()"
   ]
  },
  {
   "attachments": {},
   "cell_type": "markdown",
   "id": "fbe7bfb9",
   "metadata": {},
   "source": [
    "**We don't have any duplicate order IDs in the `orders` Dataframe.**"
   ]
  },
  {
   "attachments": {},
   "cell_type": "markdown",
   "id": "45e6bc46",
   "metadata": {},
   "source": [
    "<hr style=\"margin-bottom: 40px;\">\n",
    "\n",
    "## 2. `products` data frame  \n",
    "[Back to Contents](#contents)"
   ]
  },
  {
   "attachments": {},
   "cell_type": "markdown",
   "id": "91a41cd7",
   "metadata": {},
   "source": [
    "We can use the `duplicated()` method together with `sum()` to **get the number of duplicate rows in the DataFrame - `products`**. `duplicated()` method returns a boolean Series (True/False) denoting duplicate rows. So, we could apply `sum()` over that series to get a summation of all the True(s) - and False(s)."
   ]
  },
  {
   "cell_type": "code",
   "execution_count": 23,
   "id": "5f526b5b-8175-46fa-a0fd-441767d50e64",
   "metadata": {},
   "outputs": [
    {
     "data": {
      "text/plain": [
       "0"
      ]
     },
     "execution_count": 23,
     "metadata": {},
     "output_type": "execute_result"
    }
   ],
   "source": [
    "# Checking for fully duplicate rows\n",
    "products.duplicated().sum()"
   ]
  },
  {
   "attachments": {},
   "cell_type": "markdown",
   "id": "f4f9249b",
   "metadata": {},
   "source": [
    "**We don't have any duplicate rows in the `products` Dataframe**.  \n",
    "\n",
    "Let's check for just duplicate product IDs using `duplicated()` method together with `sum()`. Since, this time we want to find out if we have any duplicate product IDs, we will first get a Series of data for `product_id` column and then, apply `dupliacted()` method along with `sum()` on it."
   ]
  },
  {
   "cell_type": "code",
   "execution_count": 24,
   "id": "88daa4f4",
   "metadata": {},
   "outputs": [
    {
     "data": {
      "text/plain": [
       "0"
      ]
     },
     "execution_count": 24,
     "metadata": {},
     "output_type": "execute_result"
    }
   ],
   "source": [
    "# Checking for just duplicate product IDs\n",
    "products['product_id'].duplicated().sum()"
   ]
  },
  {
   "attachments": {},
   "cell_type": "markdown",
   "id": "3fd654d5",
   "metadata": {},
   "source": [
    "**We don't have any duplicate product IDs in the `products` Dataframe**.  \n",
    "\n",
    "**Let's check for just duplicate product names (after converting them to lowercase) using `duplicated()` method together with `sum()`**. Since, we are comparing Strings to check for duplicates and String could be stored in any cases, it is always safe to convert the string into lowercase (or uppercase - whichever you prefer) before proceeding to find out the duplicates."
   ]
  },
  {
   "cell_type": "code",
   "execution_count": 25,
   "id": "c773f0bf",
   "metadata": {},
   "outputs": [
    {
     "data": {
      "text/plain": [
       "1361"
      ]
     },
     "execution_count": 25,
     "metadata": {},
     "output_type": "execute_result"
    }
   ],
   "source": [
    "# Checking for just duplicate product names (convert names to lowercase to compare better)\n",
    "products['product_name'].str.lower().duplicated().sum()"
   ]
  },
  {
   "attachments": {},
   "cell_type": "markdown",
   "id": "665d36c5",
   "metadata": {},
   "source": [
    "Wow! **There are 1362 duplicate product names**.  \n",
    "\n",
    "But, are all the duplicate product names have a meaning value? **Let's check for duplicate product names that aren't missing**. We can use Boolean Dataframe Indexing to filter the desired data and also, could utilize Logical operators - `&`, `|` and `~`, if needed."
   ]
  },
  {
   "cell_type": "code",
   "execution_count": 26,
   "id": "01efd02e",
   "metadata": {},
   "outputs": [
    {
     "data": {
      "text/plain": [
       "104"
      ]
     },
     "execution_count": 26,
     "metadata": {},
     "output_type": "execute_result"
    }
   ],
   "source": [
    "# Checking for duplicate product names that aren't missing\n",
    "products[(products['product_name'].str.lower().duplicated() == True) & (products['product_name'].isna() == False)]['product_name'].count()"
   ]
  },
  {
   "attachments": {},
   "cell_type": "markdown",
   "id": "45c6694d",
   "metadata": {},
   "source": [
    "**There are 104 duplicate product names that aren't missing**. That means 1257 product names are missing."
   ]
  },
  {
   "attachments": {},
   "cell_type": "markdown",
   "id": "60f30db1",
   "metadata": {},
   "source": [
    "<hr style=\"margin-bottom: 40px;\">\n",
    "\n",
    "## 3. `departments` data frame  \n",
    "[Back to Contents](#contents)"
   ]
  },
  {
   "attachments": {},
   "cell_type": "markdown",
   "id": "3c9ba0bf",
   "metadata": {},
   "source": [
    "We can **use the `duplicated()` method together with `sum()` to get the number of duplicate rows in the DataFrame - `departments`**. `duplicated()` method returns a boolean Series (True/False) denoting duplicate rows. So, we could apply `sum()` over that series to get a summation of all the True(s) - and False(s)."
   ]
  },
  {
   "cell_type": "code",
   "execution_count": 27,
   "id": "fb410ad4-0fbf-4b80-bb09-23fdea79afe3",
   "metadata": {},
   "outputs": [
    {
     "data": {
      "text/plain": [
       "0"
      ]
     },
     "execution_count": 27,
     "metadata": {},
     "output_type": "execute_result"
    }
   ],
   "source": [
    "# Checking for fully duplicate rows\n",
    "departments.duplicated().sum()"
   ]
  },
  {
   "attachments": {},
   "cell_type": "markdown",
   "id": "2ec445c5",
   "metadata": {},
   "source": [
    "**There are no duplicated rows in the `departments` Dataframe**.  \n",
    "\n",
    "That's great! But what about the duplicate department names. **Let's check if you have duplicated department names - `departments` Dataframe**. Since, we are comparing Strings to check for duplicates and String could be stored in any cases, it is always safe to convert the string into lowercase (or uppercase - whichever you prefer) before proceeding to find out the duplicates."
   ]
  },
  {
   "cell_type": "code",
   "execution_count": 28,
   "id": "332b12bb",
   "metadata": {},
   "outputs": [
    {
     "data": {
      "text/plain": [
       "0"
      ]
     },
     "execution_count": 28,
     "metadata": {},
     "output_type": "execute_result"
    }
   ],
   "source": [
    "# Checking for just duplicate department names (convert names to lowercase to compare better)\n",
    "departments['department'].str.lower().duplicated().sum()"
   ]
  },
  {
   "attachments": {},
   "cell_type": "markdown",
   "id": "bd30d78e",
   "metadata": {},
   "source": [
    "So, we could conclude that **we don't have any duplicate department names in the `departments` Dataframe**. All the department names are unique in the Dataframe."
   ]
  },
  {
   "attachments": {},
   "cell_type": "markdown",
   "id": "889349c1",
   "metadata": {},
   "source": [
    "<hr style=\"margin-bottom: 40px;\">\n",
    "\n",
    "## 4. `aisles` data frame  \n",
    "[Back to Contents](#contents)"
   ]
  },
  {
   "attachments": {},
   "cell_type": "markdown",
   "id": "287c8415",
   "metadata": {},
   "source": [
    "**We can use the `duplicated()` method together with `sum()` to get the number of duplicate rows in the DataFrame - `aisles`**. `duplicated()` method returns a boolean Series (True/False) denoting duplicate rows. So, we could apply `sum()` over that series to get a summation of all the True(s) - and False(s)."
   ]
  },
  {
   "cell_type": "code",
   "execution_count": 29,
   "id": "6558c9d6",
   "metadata": {},
   "outputs": [
    {
     "data": {
      "text/plain": [
       "0"
      ]
     },
     "execution_count": 29,
     "metadata": {},
     "output_type": "execute_result"
    }
   ],
   "source": [
    "# Checking for fully duplicate rows\n",
    "aisles.duplicated().sum()"
   ]
  },
  {
   "attachments": {},
   "cell_type": "markdown",
   "id": "341712ab",
   "metadata": {},
   "source": [
    "**There are no duplicated rows in the `aisles` Dataframe**.  \n",
    "\n",
    "**Let's check if you have duplicated aisle names - `aisles` Dataframe**. Since, we are comparing Strings to check for duplicates and String could be stored in any cases, it is always safe to convert the string into lowercase (or uppercase - whichever you prefer) before proceeding to find out the duplicates."
   ]
  },
  {
   "cell_type": "code",
   "execution_count": 30,
   "id": "9da89fb9-4679-40f5-ad0d-c34df753a3f8",
   "metadata": {},
   "outputs": [
    {
     "data": {
      "text/plain": [
       "0"
      ]
     },
     "execution_count": 30,
     "metadata": {},
     "output_type": "execute_result"
    }
   ],
   "source": [
    "# Checking for just duplicate aisle names (convert names to lowercase to compare better)\n",
    "aisles['aisle'].str.lower().duplicated().sum()"
   ]
  },
  {
   "attachments": {},
   "cell_type": "markdown",
   "id": "ac63826f",
   "metadata": {},
   "source": [
    "Wow! **There are no duplicated aisle names in the aisles Dataframe**."
   ]
  },
  {
   "attachments": {},
   "cell_type": "markdown",
   "id": "274cd06a",
   "metadata": {},
   "source": [
    "<hr style=\"margin-bottom: 40px;\">\n",
    "\n",
    "## 5. `order_products` data frame  \n",
    "[Back to Contents](#contents)"
   ]
  },
  {
   "attachments": {},
   "cell_type": "markdown",
   "id": "5a024db0",
   "metadata": {},
   "source": [
    "**We can use the `duplicated()` method together with `sum()` to get the number of duplicate rows in the DataFrame - `order_products`**. `duplicated()` method returns a boolean Series (True/False) denoting duplicate rows. So, we could apply `sum()` over that series to get a summation of all the True(s) - and False(s)."
   ]
  },
  {
   "cell_type": "code",
   "execution_count": 31,
   "id": "52326689-84a8-4b8f-a881-7c68780f62c9",
   "metadata": {},
   "outputs": [
    {
     "data": {
      "text/plain": [
       "0"
      ]
     },
     "execution_count": 31,
     "metadata": {},
     "output_type": "execute_result"
    }
   ],
   "source": [
    "# Checking for fully duplicate rows\n",
    "order_products.duplicated().sum()"
   ]
  },
  {
   "attachments": {},
   "cell_type": "markdown",
   "id": "6241ab9a",
   "metadata": {},
   "source": [
    "**There are no duplicated rows in the `order_products` Dataframe**.  \n",
    "\n",
    "**Let's check if you have duplicated combination of `order_id` and `product_id` in - `order_products` Dataframe.** Since, we are looking for duplicates on the basis of the combination of two columns here, we could use `subset=` property of the `duplicated()` method to find duplicates on specific column(s)."
   ]
  },
  {
   "cell_type": "code",
   "execution_count": 32,
   "id": "7b861391",
   "metadata": {},
   "outputs": [
    {
     "data": {
      "text/plain": [
       "0"
      ]
     },
     "execution_count": 32,
     "metadata": {},
     "output_type": "execute_result"
    }
   ],
   "source": [
    "# Double checking for any other tricky duplicates\n",
    "order_products.duplicated(subset=['order_id', 'product_id']).sum()"
   ]
  },
  {
   "attachments": {},
   "cell_type": "markdown",
   "id": "0b890492",
   "metadata": {},
   "source": [
    "We can conclude from above that **we don't have duplicated combination of `order_id` and `product_id` in - `order_products` Dataframe.**"
   ]
  },
  {
   "attachments": {},
   "cell_type": "markdown",
   "id": "1e46de76",
   "metadata": {},
   "source": [
    "![purple-divider](https://user-images.githubusercontent.com/7065401/52071927-c1cd7100-2562-11e9-908a-dde91ba14e59.png)\n",
    "\n",
    "# ❤️‍🩹 Find and remove missing values <a id='find_and_remove_missing'></a>  \n",
    "[Back to Contents](#contents)"
   ]
  },
  {
   "attachments": {},
   "cell_type": "markdown",
   "id": "c0aebd78",
   "metadata": {},
   "source": [
    "## 1. `products` data frame  \n",
    "[Back to Contents](#contents)"
   ]
  },
  {
   "attachments": {},
   "cell_type": "markdown",
   "id": "9993ab7c",
   "metadata": {},
   "source": [
    "**Let's get the general information of the data in the DataFrame - `products` using `info()` method** and look over the number of rows the Dataframe has, how many non-null values each column has and also, get an idea of the data types of the column."
   ]
  },
  {
   "cell_type": "code",
   "execution_count": 33,
   "id": "9e81d77a",
   "metadata": {},
   "outputs": [
    {
     "name": "stdout",
     "output_type": "stream",
     "text": [
      "<class 'pandas.core.frame.DataFrame'>\n",
      "RangeIndex: 49694 entries, 0 to 49693\n",
      "Data columns (total 4 columns):\n",
      " #   Column         Non-Null Count  Dtype \n",
      "---  ------         --------------  ----- \n",
      " 0   product_id     49694 non-null  int64 \n",
      " 1   product_name   48436 non-null  object\n",
      " 2   aisle_id       49694 non-null  int64 \n",
      " 3   department_id  49694 non-null  int64 \n",
      "dtypes: int64(3), object(1)\n",
      "memory usage: 1.5+ MB\n"
     ]
    }
   ],
   "source": [
    "# Getting the general information about products Dataframe\n",
    "products.info()"
   ]
  },
  {
   "attachments": {},
   "cell_type": "markdown",
   "id": "6fe32615",
   "metadata": {},
   "source": [
    "We have a total of 49694 rows in the Dataframe. The Dataframe has 4 columns with 3 columns having no missing values. **We have some missing values in `product_name` column**.  \n",
    "\n",
    "**Let's see how many missing values do we have, by using `isna().sum()` on `product_name` column.**. \n",
    "\n",
    "The `isna()` method returns a Series (or Dataframe) containing Boolean values - True or False, indicating whether the values in the cell is missing or not. The missing values that are considered by the `isna()` method are - `NaN` in numeric arrays, `None` or `NaN` in object arrays, `NaT` in datetimelike. It doesn't take any other user-defined values into account.\n",
    "\n",
    "The `sum()` method adds up all the Boolean values by `isna()` method and gives us the total count of missing values."
   ]
  },
  {
   "cell_type": "code",
   "execution_count": 34,
   "id": "7a97899f",
   "metadata": {},
   "outputs": [
    {
     "data": {
      "text/plain": [
       "1258"
      ]
     },
     "execution_count": 34,
     "metadata": {},
     "output_type": "execute_result"
    }
   ],
   "source": [
    "# Counting the number of missing values in the product_name column\n",
    "products['product_name'].isna().sum()"
   ]
  },
  {
   "attachments": {},
   "cell_type": "markdown",
   "id": "53902718",
   "metadata": {},
   "source": [
    "**There are in total 1258 missing values in the `product_name` column**.  \n",
    "\n",
    "We could also double check applying `value_counts(dropna=False)` on `product_name` also:"
   ]
  },
  {
   "cell_type": "code",
   "execution_count": 35,
   "id": "528127ed",
   "metadata": {},
   "outputs": [
    {
     "data": {
      "text/plain": [
       "NaN                                      1258\n",
       "Chocolate Sandwich Cookies                  1\n",
       "Krinkle Cut Carolina BBQ Potato Chips       1\n",
       "Fresh Ground Turkey- 85% Lean/15% Fat       1\n",
       "Organic Unsweetened Ketchup                 1\n",
       "                                         ... \n",
       "Organic Fresh Carrot Chips                  1\n",
       "Unbleached Jumbo Baking Cups                1\n",
       "Super Glue Gel Control                      1\n",
       "3 Cheese Ravioli                            1\n",
       "BURRITO- STEAK & CHEESE                     1\n",
       "Name: product_name, Length: 48437, dtype: int64"
      ]
     },
     "execution_count": 35,
     "metadata": {},
     "output_type": "execute_result"
    }
   ],
   "source": [
    "# Counting the number of missing values in the product_name column\n",
    "products['product_name'].value_counts(dropna=False)"
   ]
  },
  {
   "attachments": {},
   "cell_type": "markdown",
   "id": "12976bbf",
   "metadata": {},
   "source": [
    "As we could see from the output above that **there are 1258 missing values in `product_name` column**."
   ]
  },
  {
   "attachments": {},
   "cell_type": "markdown",
   "id": "09363cc1",
   "metadata": {},
   "source": [
    "Let's dig deep into the records where `product_name` is missing. **We'll try to see what are the aisle IDs for the missing products**, to better understand what values should we fill up the missing product names with. We could use Boolean Dataframe indexing to filter out the data. We could also use `unique()` method on the Series for doing so as it returns an array of unique values in order of their appearance in the Series."
   ]
  },
  {
   "cell_type": "code",
   "execution_count": 36,
   "id": "e96167bc",
   "metadata": {},
   "outputs": [
    {
     "data": {
      "text/plain": [
       "array([100])"
      ]
     },
     "execution_count": 36,
     "metadata": {},
     "output_type": "execute_result"
    }
   ],
   "source": [
    "# Are all of the missing product names associated with aisle ID 100?\n",
    "products[products['product_name'].isna()]['aisle_id'].unique()"
   ]
  },
  {
   "attachments": {},
   "cell_type": "markdown",
   "id": "5564002e",
   "metadata": {},
   "source": [
    "Interesting! So, **all the rows with missing product names are associated with aisle ID 100**.  \n",
    "\n",
    "Let's also **check what the department IDs for the missing product names?** We could use Boolean Dataframe indexing to filter out the data. We could also use `unique()` method on the Series for doing so as it returns an array of unique values in order of their appearance in the Series."
   ]
  },
  {
   "cell_type": "code",
   "execution_count": 37,
   "id": "8fd0a541",
   "metadata": {},
   "outputs": [
    {
     "data": {
      "text/plain": [
       "array([21])"
      ]
     },
     "execution_count": 37,
     "metadata": {},
     "output_type": "execute_result"
    }
   ],
   "source": [
    "# Are all of the missing product names associated with department ID 21?\n",
    "products[products['product_name'].isna()]['department_id'].unique()"
   ]
  },
  {
   "attachments": {},
   "cell_type": "markdown",
   "id": "316824e4",
   "metadata": {},
   "source": [
    "So, now we can conclude that **all of the missing product names are associated with aisle ID 100 and department ID 21**. That's great.  \n",
    "\n",
    "But, the IDs alone don't give us any idea. Won't that be great to know that **what is this ailse and department?** Let's find out. We can use `query()` method on our Dataframe to query the rows based on the expression given as string.\n",
    "\n",
    "Let's find out first - **What is this aisle with ID 100?**"
   ]
  },
  {
   "cell_type": "code",
   "execution_count": 38,
   "id": "325c3464",
   "metadata": {},
   "outputs": [
    {
     "data": {
      "text/html": [
       "<div>\n",
       "<style scoped>\n",
       "    .dataframe tbody tr th:only-of-type {\n",
       "        vertical-align: middle;\n",
       "    }\n",
       "\n",
       "    .dataframe tbody tr th {\n",
       "        vertical-align: top;\n",
       "    }\n",
       "\n",
       "    .dataframe thead th {\n",
       "        text-align: right;\n",
       "    }\n",
       "</style>\n",
       "<table border=\"1\" class=\"dataframe\">\n",
       "  <thead>\n",
       "    <tr style=\"text-align: right;\">\n",
       "      <th></th>\n",
       "      <th>aisle_id</th>\n",
       "      <th>aisle</th>\n",
       "    </tr>\n",
       "  </thead>\n",
       "  <tbody>\n",
       "    <tr>\n",
       "      <th>99</th>\n",
       "      <td>100</td>\n",
       "      <td>missing</td>\n",
       "    </tr>\n",
       "  </tbody>\n",
       "</table>\n",
       "</div>"
      ],
      "text/plain": [
       "    aisle_id    aisle\n",
       "99       100  missing"
      ]
     },
     "execution_count": 38,
     "metadata": {},
     "output_type": "execute_result"
    }
   ],
   "source": [
    "# What is this aisle with ID 100?\n",
    "aisle_100 = aisles.query('aisle_id == 100')\n",
    "aisle_100"
   ]
  },
  {
   "attachments": {},
   "cell_type": "markdown",
   "id": "54abd237",
   "metadata": {},
   "source": [
    "So, **the aisle name for the Aisle ID 100 is 'missing'**.  \n",
    "\n",
    "Next - **What is this department with ID 21?**"
   ]
  },
  {
   "cell_type": "code",
   "execution_count": 39,
   "id": "cc755d0d",
   "metadata": {},
   "outputs": [
    {
     "data": {
      "text/html": [
       "<div>\n",
       "<style scoped>\n",
       "    .dataframe tbody tr th:only-of-type {\n",
       "        vertical-align: middle;\n",
       "    }\n",
       "\n",
       "    .dataframe tbody tr th {\n",
       "        vertical-align: top;\n",
       "    }\n",
       "\n",
       "    .dataframe thead th {\n",
       "        text-align: right;\n",
       "    }\n",
       "</style>\n",
       "<table border=\"1\" class=\"dataframe\">\n",
       "  <thead>\n",
       "    <tr style=\"text-align: right;\">\n",
       "      <th></th>\n",
       "      <th>department_id</th>\n",
       "      <th>department</th>\n",
       "    </tr>\n",
       "  </thead>\n",
       "  <tbody>\n",
       "    <tr>\n",
       "      <th>20</th>\n",
       "      <td>21</td>\n",
       "      <td>missing</td>\n",
       "    </tr>\n",
       "  </tbody>\n",
       "</table>\n",
       "</div>"
      ],
      "text/plain": [
       "    department_id department\n",
       "20             21    missing"
      ]
     },
     "execution_count": 39,
     "metadata": {},
     "output_type": "execute_result"
    }
   ],
   "source": [
    "# What is this department with ID 21?\n",
    "dept_21 = departments.query('department_id == 21')\n",
    "dept_21"
   ]
  },
  {
   "attachments": {},
   "cell_type": "markdown",
   "id": "3f80baf7",
   "metadata": {},
   "source": [
    "So, the department name for the Department ID 21 is 'missing'."
   ]
  },
  {
   "attachments": {},
   "cell_type": "markdown",
   "id": "66431ab4",
   "metadata": {},
   "source": [
    "**Since, the Aisle and Department names are also missing, it is safe to conclude that we can fill the missing product names with 'Unknown' as value.** We could use `fillna()` method to fill NA/NaN values in the Series with some meaningful value."
   ]
  },
  {
   "cell_type": "code",
   "execution_count": 40,
   "id": "6b295120",
   "metadata": {},
   "outputs": [],
   "source": [
    "# Filling missing product names with 'Unknown'\n",
    "products['product_name'] = products['product_name'].fillna('Unknown')"
   ]
  },
  {
   "attachments": {},
   "cell_type": "markdown",
   "id": "a359ed4e",
   "metadata": {},
   "source": [
    "Alright! So, **let's double check that we successfully replaced the missing values in the `products` Dataframe**."
   ]
  },
  {
   "cell_type": "code",
   "execution_count": 41,
   "id": "2df07e75",
   "metadata": {},
   "outputs": [
    {
     "data": {
      "text/plain": [
       "0"
      ]
     },
     "execution_count": 41,
     "metadata": {},
     "output_type": "execute_result"
    }
   ],
   "source": [
    "# Counting the number of missing values in the product_name column\n",
    "products['product_name'].isna().sum()"
   ]
  },
  {
   "attachments": {},
   "cell_type": "markdown",
   "id": "17036444",
   "metadata": {},
   "source": [
    "We can safely conclude that **we don't have any more missing values in the `products` Dataframe**."
   ]
  },
  {
   "cell_type": "code",
   "execution_count": 42,
   "id": "9f75644c",
   "metadata": {},
   "outputs": [
    {
     "data": {
      "text/plain": [
       "Unknown                                  1258\n",
       "Chocolate Sandwich Cookies                  1\n",
       "Krinkle Cut Carolina BBQ Potato Chips       1\n",
       "Fresh Ground Turkey- 85% Lean/15% Fat       1\n",
       "Organic Unsweetened Ketchup                 1\n",
       "                                         ... \n",
       "Organic Fresh Carrot Chips                  1\n",
       "Unbleached Jumbo Baking Cups                1\n",
       "Super Glue Gel Control                      1\n",
       "3 Cheese Ravioli                            1\n",
       "BURRITO- STEAK & CHEESE                     1\n",
       "Name: product_name, Length: 48437, dtype: int64"
      ]
     },
     "execution_count": 42,
     "metadata": {},
     "output_type": "execute_result"
    }
   ],
   "source": [
    "# Counting the number of missing values in the product_name column\n",
    "products['product_name'].value_counts(dropna=False)"
   ]
  },
  {
   "attachments": {},
   "cell_type": "markdown",
   "id": "4a76ab24",
   "metadata": {},
   "source": [
    "Awesome! **The 1258 missing values in the `product_name` column has been replaced by `Unknown`**."
   ]
  },
  {
   "attachments": {},
   "cell_type": "markdown",
   "id": "7eb45c86",
   "metadata": {},
   "source": [
    "<hr style=\"margin-bottom: 40px;\">\n",
    "\n",
    "## 2. `orders` data frame  \n",
    "[Back to Contents](#contents)"
   ]
  },
  {
   "attachments": {},
   "cell_type": "markdown",
   "id": "6ff63f76",
   "metadata": {},
   "source": [
    "**Let's get the information of the data in the DataFrame - `orders` using `info()` method** and look over the number of rows the Dataframe has, how many non-null values each column has and also, get an idea of the data types of the column."
   ]
  },
  {
   "cell_type": "code",
   "execution_count": 43,
   "id": "d77f2f31",
   "metadata": {
    "scrolled": true
   },
   "outputs": [
    {
     "name": "stdout",
     "output_type": "stream",
     "text": [
      "<class 'pandas.core.frame.DataFrame'>\n",
      "RangeIndex: 478952 entries, 0 to 478951\n",
      "Data columns (total 6 columns):\n",
      " #   Column                  Non-Null Count   Dtype  \n",
      "---  ------                  --------------   -----  \n",
      " 0   order_id                478952 non-null  int64  \n",
      " 1   user_id                 478952 non-null  int64  \n",
      " 2   order_number            478952 non-null  int64  \n",
      " 3   order_dow               478952 non-null  int64  \n",
      " 4   order_hour_of_day       478952 non-null  int64  \n",
      " 5   days_since_prior_order  450135 non-null  float64\n",
      "dtypes: float64(1), int64(5)\n",
      "memory usage: 21.9 MB\n"
     ]
    }
   ],
   "source": [
    "# Getting the general information about orders Dataframe\n",
    "orders.info()"
   ]
  },
  {
   "attachments": {},
   "cell_type": "markdown",
   "id": "5e72bcd7",
   "metadata": {},
   "source": [
    "We have a total of 478952 rows in the Dataframe. The Dataframe has 6 columns with 5 columns having no missing values. **We have some missing values in `days_since_prior_order` column**. Let's check how many?\n",
    "\n",
    "- Rather than summing the values returned by `isna()`, we can count missing values directly using the `value_counts()` method. \n",
    "- When called on a single column (i.e. a Series), it returns **the number of times each unique value occurs in that column**.\n",
    "- This method has a parameter called `dropna=`, which is set to `True` by default. This means `value_counts()` will exclude `None` or `NaN` values unless you set `dropna=False`."
   ]
  },
  {
   "cell_type": "code",
   "execution_count": 44,
   "id": "12efa96d",
   "metadata": {},
   "outputs": [
    {
     "data": {
      "text/plain": [
       "30.0    51337\n",
       "7.0     44577\n",
       "6.0     33930\n",
       "4.0     31006\n",
       "3.0     30224\n",
       "5.0     30096\n",
       "NaN     28817\n",
       "2.0     27138\n",
       "8.0     25361\n",
       "1.0     20179\n",
       "9.0     16753\n",
       "14.0    13992\n",
       "10.0    13309\n",
       "13.0    11737\n",
       "11.0    11467\n",
       "12.0    10658\n",
       "0.0      9589\n",
       "15.0     9416\n",
       "16.0     6587\n",
       "21.0     6448\n",
       "17.0     5498\n",
       "20.0     5302\n",
       "18.0     4971\n",
       "19.0     4939\n",
       "22.0     4514\n",
       "28.0     3745\n",
       "23.0     3337\n",
       "24.0     3015\n",
       "27.0     2986\n",
       "25.0     2711\n",
       "29.0     2673\n",
       "26.0     2640\n",
       "Name: days_since_prior_order, dtype: int64"
      ]
     },
     "execution_count": 44,
     "metadata": {},
     "output_type": "execute_result"
    }
   ],
   "source": [
    "# Checking how many missing values does the days_since_prior_order column has\n",
    "orders['days_since_prior_order'].value_counts(dropna=False)"
   ]
  },
  {
   "attachments": {},
   "cell_type": "markdown",
   "id": "2002af96",
   "metadata": {},
   "source": [
    "**There are 28817 missing values in the `days_since_prior_order` column.**  \n",
    "\n",
    "Let's print the records from `orders` table where `days_since_prior_order` is missing."
   ]
  },
  {
   "cell_type": "code",
   "execution_count": 45,
   "id": "166e5a86",
   "metadata": {},
   "outputs": [
    {
     "data": {
      "text/html": [
       "<div>\n",
       "<style scoped>\n",
       "    .dataframe tbody tr th:only-of-type {\n",
       "        vertical-align: middle;\n",
       "    }\n",
       "\n",
       "    .dataframe tbody tr th {\n",
       "        vertical-align: top;\n",
       "    }\n",
       "\n",
       "    .dataframe thead th {\n",
       "        text-align: right;\n",
       "    }\n",
       "</style>\n",
       "<table border=\"1\" class=\"dataframe\">\n",
       "  <thead>\n",
       "    <tr style=\"text-align: right;\">\n",
       "      <th></th>\n",
       "      <th>order_id</th>\n",
       "      <th>user_id</th>\n",
       "      <th>order_number</th>\n",
       "      <th>order_dow</th>\n",
       "      <th>order_hour_of_day</th>\n",
       "      <th>days_since_prior_order</th>\n",
       "    </tr>\n",
       "  </thead>\n",
       "  <tbody>\n",
       "    <tr>\n",
       "      <th>28</th>\n",
       "      <td>133707</td>\n",
       "      <td>182261</td>\n",
       "      <td>1</td>\n",
       "      <td>3</td>\n",
       "      <td>10</td>\n",
       "      <td>NaN</td>\n",
       "    </tr>\n",
       "    <tr>\n",
       "      <th>96</th>\n",
       "      <td>787445</td>\n",
       "      <td>25685</td>\n",
       "      <td>1</td>\n",
       "      <td>6</td>\n",
       "      <td>18</td>\n",
       "      <td>NaN</td>\n",
       "    </tr>\n",
       "    <tr>\n",
       "      <th>100</th>\n",
       "      <td>294410</td>\n",
       "      <td>111449</td>\n",
       "      <td>1</td>\n",
       "      <td>0</td>\n",
       "      <td>19</td>\n",
       "      <td>NaN</td>\n",
       "    </tr>\n",
       "    <tr>\n",
       "      <th>103</th>\n",
       "      <td>2869915</td>\n",
       "      <td>123958</td>\n",
       "      <td>1</td>\n",
       "      <td>4</td>\n",
       "      <td>16</td>\n",
       "      <td>NaN</td>\n",
       "    </tr>\n",
       "    <tr>\n",
       "      <th>104</th>\n",
       "      <td>2521921</td>\n",
       "      <td>42286</td>\n",
       "      <td>1</td>\n",
       "      <td>3</td>\n",
       "      <td>18</td>\n",
       "      <td>NaN</td>\n",
       "    </tr>\n",
       "    <tr>\n",
       "      <th>...</th>\n",
       "      <td>...</td>\n",
       "      <td>...</td>\n",
       "      <td>...</td>\n",
       "      <td>...</td>\n",
       "      <td>...</td>\n",
       "      <td>...</td>\n",
       "    </tr>\n",
       "    <tr>\n",
       "      <th>478880</th>\n",
       "      <td>2589657</td>\n",
       "      <td>205028</td>\n",
       "      <td>1</td>\n",
       "      <td>0</td>\n",
       "      <td>16</td>\n",
       "      <td>NaN</td>\n",
       "    </tr>\n",
       "    <tr>\n",
       "      <th>478881</th>\n",
       "      <td>2222353</td>\n",
       "      <td>141211</td>\n",
       "      <td>1</td>\n",
       "      <td>2</td>\n",
       "      <td>13</td>\n",
       "      <td>NaN</td>\n",
       "    </tr>\n",
       "    <tr>\n",
       "      <th>478907</th>\n",
       "      <td>2272807</td>\n",
       "      <td>204154</td>\n",
       "      <td>1</td>\n",
       "      <td>1</td>\n",
       "      <td>15</td>\n",
       "      <td>NaN</td>\n",
       "    </tr>\n",
       "    <tr>\n",
       "      <th>478911</th>\n",
       "      <td>2499542</td>\n",
       "      <td>68810</td>\n",
       "      <td>1</td>\n",
       "      <td>4</td>\n",
       "      <td>19</td>\n",
       "      <td>NaN</td>\n",
       "    </tr>\n",
       "    <tr>\n",
       "      <th>478930</th>\n",
       "      <td>1387033</td>\n",
       "      <td>22496</td>\n",
       "      <td>1</td>\n",
       "      <td>5</td>\n",
       "      <td>14</td>\n",
       "      <td>NaN</td>\n",
       "    </tr>\n",
       "  </tbody>\n",
       "</table>\n",
       "<p>28817 rows × 6 columns</p>\n",
       "</div>"
      ],
      "text/plain": [
       "        order_id  user_id  order_number  order_dow  order_hour_of_day  \\\n",
       "28        133707   182261             1          3                 10   \n",
       "96        787445    25685             1          6                 18   \n",
       "100       294410   111449             1          0                 19   \n",
       "103      2869915   123958             1          4                 16   \n",
       "104      2521921    42286             1          3                 18   \n",
       "...          ...      ...           ...        ...                ...   \n",
       "478880   2589657   205028             1          0                 16   \n",
       "478881   2222353   141211             1          2                 13   \n",
       "478907   2272807   204154             1          1                 15   \n",
       "478911   2499542    68810             1          4                 19   \n",
       "478930   1387033    22496             1          5                 14   \n",
       "\n",
       "        days_since_prior_order  \n",
       "28                         NaN  \n",
       "96                         NaN  \n",
       "100                        NaN  \n",
       "103                        NaN  \n",
       "104                        NaN  \n",
       "...                        ...  \n",
       "478880                     NaN  \n",
       "478881                     NaN  \n",
       "478907                     NaN  \n",
       "478911                     NaN  \n",
       "478930                     NaN  \n",
       "\n",
       "[28817 rows x 6 columns]"
      ]
     },
     "execution_count": 45,
     "metadata": {},
     "output_type": "execute_result"
    }
   ],
   "source": [
    "# Printing records where days_since_prior_order is missing\n",
    "orders[orders['days_since_prior_order'].isna()]"
   ]
  },
  {
   "attachments": {},
   "cell_type": "markdown",
   "id": "2c7425f4",
   "metadata": {},
   "source": [
    "We notice that **`order_number` column that tells the number of times this customer has placed an order - is 1 for all the missing `days_since_prior_order`**.  (`order_number` columns indcates the number of times the customer has placed an order).\n",
    "\n",
    "**Let's check if there are any missing values where it's not a customer's first order?** We can use `query()` method on our Dataframe to query the rows based on the expression given as string."
   ]
  },
  {
   "cell_type": "code",
   "execution_count": 46,
   "id": "d4b77c7a",
   "metadata": {
    "scrolled": true
   },
   "outputs": [
    {
     "data": {
      "text/html": [
       "<div>\n",
       "<style scoped>\n",
       "    .dataframe tbody tr th:only-of-type {\n",
       "        vertical-align: middle;\n",
       "    }\n",
       "\n",
       "    .dataframe tbody tr th {\n",
       "        vertical-align: top;\n",
       "    }\n",
       "\n",
       "    .dataframe thead th {\n",
       "        text-align: right;\n",
       "    }\n",
       "</style>\n",
       "<table border=\"1\" class=\"dataframe\">\n",
       "  <thead>\n",
       "    <tr style=\"text-align: right;\">\n",
       "      <th></th>\n",
       "      <th>order_id</th>\n",
       "      <th>user_id</th>\n",
       "      <th>order_number</th>\n",
       "      <th>order_dow</th>\n",
       "      <th>order_hour_of_day</th>\n",
       "      <th>days_since_prior_order</th>\n",
       "    </tr>\n",
       "  </thead>\n",
       "  <tbody>\n",
       "  </tbody>\n",
       "</table>\n",
       "</div>"
      ],
      "text/plain": [
       "Empty DataFrame\n",
       "Columns: [order_id, user_id, order_number, order_dow, order_hour_of_day, days_since_prior_order]\n",
       "Index: []"
      ]
     },
     "execution_count": 46,
     "metadata": {},
     "output_type": "execute_result"
    }
   ],
   "source": [
    "# Are there any missing values where it's not a customer's first order?\n",
    "orders.query('order_number != 1 & days_since_prior_order.isna()')"
   ]
  },
  {
   "attachments": {},
   "cell_type": "markdown",
   "id": "66ec6d03",
   "metadata": {},
   "source": [
    "So, **we can conclude that the missing values for `days_since_prior_order` column is only for the customer's first order and that makes sense, since the customer would not have ordered anything before.**"
   ]
  },
  {
   "attachments": {},
   "cell_type": "markdown",
   "id": "69dc9ca4",
   "metadata": {},
   "source": [
    "<hr style=\"margin-bottom: 40px;\">\n",
    "\n",
    "## 3. `order_products` data frame  \n",
    "[Back to Contents](#contents)"
   ]
  },
  {
   "attachments": {},
   "cell_type": "markdown",
   "id": "9cdb9dd2",
   "metadata": {},
   "source": [
    "Let's get the information of the data in the DataFrame - `order_products` using `info()` method and look over the number of rows the Dataframe has, how many non-null values each column has and also, get an idea of the data types of the column.  \n",
    "\n",
    "The `order_products` Dataframe contains many rows of data. When a DataFrame has too many rows, `info()` will not print the non-null counts by default. If you want to to print the non-null counts, include `show_counts=True` when you call `info()`."
   ]
  },
  {
   "cell_type": "code",
   "execution_count": 47,
   "id": "b69ff328",
   "metadata": {
    "scrolled": true
   },
   "outputs": [
    {
     "name": "stdout",
     "output_type": "stream",
     "text": [
      "<class 'pandas.core.frame.DataFrame'>\n",
      "RangeIndex: 4545007 entries, 0 to 4545006\n",
      "Data columns (total 4 columns):\n",
      " #   Column             Non-Null Count    Dtype  \n",
      "---  ------             --------------    -----  \n",
      " 0   order_id           4545007 non-null  int64  \n",
      " 1   product_id         4545007 non-null  int64  \n",
      " 2   add_to_cart_order  4544171 non-null  float64\n",
      " 3   reordered          4545007 non-null  int64  \n",
      "dtypes: float64(1), int64(3)\n",
      "memory usage: 138.7 MB\n"
     ]
    }
   ],
   "source": [
    "# Getting the general information about orders Dataframe\n",
    "order_products.info(show_counts=True)"
   ]
  },
  {
   "attachments": {},
   "cell_type": "markdown",
   "id": "b7674e26",
   "metadata": {},
   "source": [
    "We have a total of 4545007 rows in the Dataframe. The Dataframe has 4 columns with 3 columns having no missing values. **We have some missing values in `add_to_cart_order` column.** Let's check how many?"
   ]
  },
  {
   "cell_type": "code",
   "execution_count": 48,
   "id": "9e05d204",
   "metadata": {},
   "outputs": [
    {
     "data": {
      "text/plain": [
       "836"
      ]
     },
     "execution_count": 48,
     "metadata": {},
     "output_type": "execute_result"
    }
   ],
   "source": [
    "# Checking how many missing values does the add_to_cart_order column has\n",
    "order_products['add_to_cart_order'].isna().sum()"
   ]
  },
  {
   "attachments": {},
   "cell_type": "markdown",
   "id": "62c7208d",
   "metadata": {},
   "source": [
    "**We have 836 missing values in the `add_to_cart_order` column**.  \n",
    "\n",
    "Let's check the minimum and maximum values in the column - `add_to_cart_order`. The `min()` method returns a Series with the minimum value of each column. And the `max()` method returns a Series with the maximum value of each column."
   ]
  },
  {
   "cell_type": "code",
   "execution_count": 49,
   "id": "9a78e5ee",
   "metadata": {},
   "outputs": [
    {
     "data": {
      "text/plain": [
       "1.0"
      ]
     },
     "execution_count": 49,
     "metadata": {},
     "output_type": "execute_result"
    }
   ],
   "source": [
    "# What are the min and max values in this column?\n",
    "\n",
    "# Finding the minimum value\n",
    "min_value = order_products['add_to_cart_order'].min()\n",
    "min_value"
   ]
  },
  {
   "cell_type": "code",
   "execution_count": 50,
   "id": "f6b2f4b7",
   "metadata": {},
   "outputs": [
    {
     "data": {
      "text/plain": [
       "64.0"
      ]
     },
     "execution_count": 50,
     "metadata": {},
     "output_type": "execute_result"
    }
   ],
   "source": [
    "# Finding the maximum value\n",
    "max_value = order_products['add_to_cart_order'].max()\n",
    "max_value"
   ]
  },
  {
   "attachments": {},
   "cell_type": "markdown",
   "id": "2aa02b5e",
   "metadata": {},
   "source": [
    "**The minimum and maximum values in the column - `add_to_cart_order` are 1.0 and 64.0 respectively.**. \n",
    "\n",
    "Now, **let's find and save all a list of order IDs with at least one missing value in `add_to_cart_order` column**. We could follow the below steps:  \n",
    "1. Create a new column - `add_to_cart_order_is_missing` in the Dataframe, to store the Boolean value whether `add_to_cart_order` is missing or not. We can use `isna()` method to check if the value in a cell is missing or not.\n",
    "2. Group the Dataframe by `order_id` and save the grouped data in `order_products_grpd` variable.\n",
    "3. Get all order IDs with at least one missing value in `add_to_cart_order` column and save the array in `order_ids_with_missing_values` variable. We could use Boolean Dataframe indexing to filter out data from the grouped dataframe and get the indices of the Dataframe using the `index` property."
   ]
  },
  {
   "cell_type": "code",
   "execution_count": 51,
   "id": "ab9d0c2b",
   "metadata": {
    "scrolled": false
   },
   "outputs": [
    {
     "data": {
      "text/plain": [
       "Int64Index([   9310,   61355,  102236,  129627,  165801,  171934,  180546,\n",
       "             264710,  293169,  388234,  404157,  678116,  733526,  747668,\n",
       "             813364,  844733,  854647,  871281,  888470,  903110,  936852,\n",
       "            1021563, 1038146, 1169835, 1183255, 1220886, 1302315, 1308785,\n",
       "            1386261, 1477139, 1529171, 1564093, 1598369, 1625713, 1633337,\n",
       "            1648217, 1673227, 1677118, 1713430, 1717990, 1730767, 1800005,\n",
       "            1832957, 1888628, 1916118, 1959075, 1961723, 1968313, 2094761,\n",
       "            2136777, 2170451, 2256933, 2409109, 2449164, 2470674, 2479011,\n",
       "            2621907, 2625444, 2652650, 2721963, 2729254, 2849370, 2926893,\n",
       "            2979697, 2997021, 2999801, 3125735, 3308010, 3347453, 3383594],\n",
       "           dtype='int64', name='order_id')"
      ]
     },
     "execution_count": 51,
     "metadata": {},
     "output_type": "execute_result"
    }
   ],
   "source": [
    "# Save all order IDs with at least one missing value in 'add_to_cart_order'\n",
    "\n",
    "# Creating a new column - 'add_to_cart_order_is_missing' to store value if 'add_to_cart_order' is missing or not\n",
    "order_products['add_to_cart_order_is_missing'] = order_products['add_to_cart_order'].isna()\n",
    "\n",
    "# Grouping the df by 'order_id' and saving the grouped data in 'order_products_grpd'\n",
    "order_products_grpd = order_products.groupby('order_id').sum()\n",
    "\n",
    "# Getting all order IDs with at least one missing value in 'add_to_cart_order' and saving it in 'order_ids_with_missing_values'\n",
    "order_ids_with_missing_values = order_products_grpd[order_products_grpd['add_to_cart_order_is_missing'] >= 1].index\n",
    "\n",
    "# Displaying all order IDs with at least one missing value in 'add_to_cart_order'\n",
    "order_ids_with_missing_values"
   ]
  },
  {
   "attachments": {},
   "cell_type": "markdown",
   "id": "94c9b7a2",
   "metadata": {},
   "source": [
    "We have saved all order IDs with at least one missing value in `add_to_cart_order` in `order_ids_with_missing_values` variable.  \n",
    "\n",
    "Now, our intent is to check - **Do all orders with missing values have more than 64 products?**. We could follow the below steps:\n",
    "1. Get (or filter) from `order_products` the orders with the IDs saved in `order_ids_with_missing_values` variable (we can use `isin()` function to get orders with those IDs).\n",
    "2. Group the filtered data by `order_id` so we can `count()` them.\n",
    "3. Sort the resultant Series using `sort_values()` method in ascending order so we can figure out what is the least number of products do the orders with missing values have."
   ]
  },
  {
   "cell_type": "code",
   "execution_count": 52,
   "id": "54c31695",
   "metadata": {
    "scrolled": true
   },
   "outputs": [
    {
     "data": {
      "text/plain": [
       "order_id\n",
       "9310        65\n",
       "747668      65\n",
       "1598369     65\n",
       "1677118     65\n",
       "2170451     65\n",
       "          ... \n",
       "1959075     98\n",
       "171934     104\n",
       "2136777    108\n",
       "3308010    115\n",
       "61355      127\n",
       "Name: product_id, Length: 70, dtype: int64"
      ]
     },
     "execution_count": 52,
     "metadata": {},
     "output_type": "execute_result"
    }
   ],
   "source": [
    "# Do all orders with missing values have more than 64 products?\n",
    "\n",
    "# Dropping the additional column - 'add_to_cart_order_is_missing' added for analysis\n",
    "order_products = order_products.drop(columns='add_to_cart_order_is_missing')\n",
    "\n",
    "# Filtering all the orders with order IDs in 'order_ids_with_missing_values' and saving in 'filtered_orders_with_missing_values'\n",
    "filtered_orders_with_missing_values = order_products[order_products['order_id'].isin(order_ids_with_missing_values)]\n",
    "\n",
    "# Counting the number of products for each order ID and sorting them in ascending order\n",
    "filtered_orders_with_missing_values.groupby(by='order_id')['product_id'].count().sort_values(ascending=True)"
   ]
  },
  {
   "attachments": {},
   "cell_type": "markdown",
   "id": "8afe7802",
   "metadata": {},
   "source": [
    "From the above result, we can conclude that indeed **all orders with missing values have more than 64 products**.  \n",
    "\n",
    "**Let's replace missing values in `add_to_cart_order` column with 999 using `fillna()` method**. And then, we could print a sample of 10 rows using `sample()` method. We can use `random_state` as seed for reproducibility."
   ]
  },
  {
   "cell_type": "code",
   "execution_count": 53,
   "id": "cf949461",
   "metadata": {},
   "outputs": [
    {
     "data": {
      "text/html": [
       "<div>\n",
       "<style scoped>\n",
       "    .dataframe tbody tr th:only-of-type {\n",
       "        vertical-align: middle;\n",
       "    }\n",
       "\n",
       "    .dataframe tbody tr th {\n",
       "        vertical-align: top;\n",
       "    }\n",
       "\n",
       "    .dataframe thead th {\n",
       "        text-align: right;\n",
       "    }\n",
       "</style>\n",
       "<table border=\"1\" class=\"dataframe\">\n",
       "  <thead>\n",
       "    <tr style=\"text-align: right;\">\n",
       "      <th></th>\n",
       "      <th>order_id</th>\n",
       "      <th>product_id</th>\n",
       "      <th>add_to_cart_order</th>\n",
       "      <th>reordered</th>\n",
       "    </tr>\n",
       "  </thead>\n",
       "  <tbody>\n",
       "    <tr>\n",
       "      <th>624513</th>\n",
       "      <td>102236</td>\n",
       "      <td>3988</td>\n",
       "      <td>46.0</td>\n",
       "      <td>0</td>\n",
       "    </tr>\n",
       "    <tr>\n",
       "      <th>1128175</th>\n",
       "      <td>165801</td>\n",
       "      <td>38596</td>\n",
       "      <td>64.0</td>\n",
       "      <td>0</td>\n",
       "    </tr>\n",
       "    <tr>\n",
       "      <th>2933415</th>\n",
       "      <td>1633337</td>\n",
       "      <td>8518</td>\n",
       "      <td>42.0</td>\n",
       "      <td>0</td>\n",
       "    </tr>\n",
       "    <tr>\n",
       "      <th>876543</th>\n",
       "      <td>1800005</td>\n",
       "      <td>41665</td>\n",
       "      <td>3.0</td>\n",
       "      <td>1</td>\n",
       "    </tr>\n",
       "    <tr>\n",
       "      <th>1961551</th>\n",
       "      <td>61355</td>\n",
       "      <td>9421</td>\n",
       "      <td>999.0</td>\n",
       "      <td>0</td>\n",
       "    </tr>\n",
       "    <tr>\n",
       "      <th>2006891</th>\n",
       "      <td>1302315</td>\n",
       "      <td>14852</td>\n",
       "      <td>49.0</td>\n",
       "      <td>0</td>\n",
       "    </tr>\n",
       "    <tr>\n",
       "      <th>4376957</th>\n",
       "      <td>1968313</td>\n",
       "      <td>5605</td>\n",
       "      <td>999.0</td>\n",
       "      <td>0</td>\n",
       "    </tr>\n",
       "    <tr>\n",
       "      <th>229974</th>\n",
       "      <td>2170451</td>\n",
       "      <td>47180</td>\n",
       "      <td>56.0</td>\n",
       "      <td>1</td>\n",
       "    </tr>\n",
       "    <tr>\n",
       "      <th>3035128</th>\n",
       "      <td>888470</td>\n",
       "      <td>21795</td>\n",
       "      <td>53.0</td>\n",
       "      <td>0</td>\n",
       "    </tr>\n",
       "    <tr>\n",
       "      <th>1677445</th>\n",
       "      <td>1308785</td>\n",
       "      <td>34519</td>\n",
       "      <td>28.0</td>\n",
       "      <td>0</td>\n",
       "    </tr>\n",
       "  </tbody>\n",
       "</table>\n",
       "</div>"
      ],
      "text/plain": [
       "         order_id  product_id  add_to_cart_order  reordered\n",
       "624513     102236        3988               46.0          0\n",
       "1128175    165801       38596               64.0          0\n",
       "2933415   1633337        8518               42.0          0\n",
       "876543    1800005       41665                3.0          1\n",
       "1961551     61355        9421              999.0          0\n",
       "2006891   1302315       14852               49.0          0\n",
       "4376957   1968313        5605              999.0          0\n",
       "229974    2170451       47180               56.0          1\n",
       "3035128    888470       21795               53.0          0\n",
       "1677445   1308785       34519               28.0          0"
      ]
     },
     "execution_count": 53,
     "metadata": {},
     "output_type": "execute_result"
    }
   ],
   "source": [
    "# Replace missing values with 999 and convert column to integer type\n",
    "\n",
    "# Replacing the missing values in the 'add_to_cart_order' with 999\n",
    "order_products['add_to_cart_order'] = order_products['add_to_cart_order'].fillna(999)\n",
    "\n",
    "# Printing a sample of rows from the list of order IDs with missing values to show replaced missing values\n",
    "order_products[order_products['order_id'].isin(order_ids_with_missing_values)].sample(n=10, random_state=20)"
   ]
  },
  {
   "attachments": {},
   "cell_type": "markdown",
   "id": "ba35d87a",
   "metadata": {},
   "source": [
    "So, **all the missing values in `add_to_cart_order` column has been successfully replaced with 999**. We could always double check that there are now no missing values in the column by using a combination of `isna()` and `sum()` methods on the Series."
   ]
  },
  {
   "cell_type": "code",
   "execution_count": 54,
   "id": "3c72fd3e",
   "metadata": {},
   "outputs": [
    {
     "data": {
      "text/plain": [
       "0"
      ]
     },
     "execution_count": 54,
     "metadata": {},
     "output_type": "execute_result"
    }
   ],
   "source": [
    "# Double checking that there is no missing value now in 'add_to_cart_order' column\n",
    "order_products['add_to_cart_order'].isna().sum()"
   ]
  },
  {
   "attachments": {},
   "cell_type": "markdown",
   "id": "7136f2c7",
   "metadata": {},
   "source": [
    "**There are now no missing values in column - `add_to_cart_order`**.  \n",
    "\n",
    "**Let's check what are the datatypes of teh different columns of the Dataframe - `order_products`** using `dtypes` property. `dtypes` returns a Series with the data type of each column."
   ]
  },
  {
   "cell_type": "code",
   "execution_count": 55,
   "id": "ab8dc50f",
   "metadata": {},
   "outputs": [
    {
     "data": {
      "text/plain": [
       "order_id               int64\n",
       "product_id             int64\n",
       "add_to_cart_order    float64\n",
       "reordered              int64\n",
       "dtype: object"
      ]
     },
     "execution_count": 55,
     "metadata": {},
     "output_type": "execute_result"
    }
   ],
   "source": [
    "# Checking the datatypes of the columns in 'order_products'\n",
    "order_products.dtypes"
   ]
  },
  {
   "attachments": {},
   "cell_type": "markdown",
   "id": "cae4b32c",
   "metadata": {},
   "source": [
    "**We can conclude that `add_to_cart_order` column has a float datatype.**. \n",
    "\n",
    "But, we want to convert it to an integer. But, we have to make sure if it’s safe to perform the conversion from float to int or we will lose some information after we do this. For that, we can use `array_equal()` function from numpy. The method returns `True` if two arrays have the same shape and elements, `False` otherwise."
   ]
  },
  {
   "cell_type": "code",
   "execution_count": 56,
   "id": "6a3b1c29",
   "metadata": {},
   "outputs": [
    {
     "data": {
      "text/plain": [
       "True"
      ]
     },
     "execution_count": 56,
     "metadata": {},
     "output_type": "execute_result"
    }
   ],
   "source": [
    "# Validating if it is safe to change datatype of 'add_to_cart_order' from float to integer\n",
    "np.array_equal(order_products['add_to_cart_order'], order_products['add_to_cart_order'].astype('int'))"
   ]
  },
  {
   "attachments": {},
   "cell_type": "markdown",
   "id": "514e1756",
   "metadata": {},
   "source": [
    "**We got a `True` - that means it is safe for us to convert the datatype of the column - `add_to_cart_order` from float to integer, without any data loss**.  \n",
    "\n",
    "Now, let's convert the datatype using `astype()` method provided by pandas to cast a pandas object to a specified datatype."
   ]
  },
  {
   "cell_type": "code",
   "execution_count": 57,
   "id": "c03f6964",
   "metadata": {},
   "outputs": [
    {
     "data": {
      "text/plain": [
       "order_id             int64\n",
       "product_id           int64\n",
       "add_to_cart_order    int64\n",
       "reordered            int64\n",
       "dtype: object"
      ]
     },
     "execution_count": 57,
     "metadata": {},
     "output_type": "execute_result"
    }
   ],
   "source": [
    "# Converting the datatype of 'add_to_cart_order' from float to integer\n",
    "order_products['add_to_cart_order'] = order_products['add_to_cart_order'].astype('int')\n",
    "\n",
    "# Validating the new datatypes of the columns in 'order_products'\n",
    "order_products.dtypes"
   ]
  },
  {
   "attachments": {},
   "cell_type": "markdown",
   "id": "fea4bcc7",
   "metadata": {},
   "source": [
    "Perfect! **We have successfully converted the datatype of `add_to_cart_order` column from float to integer** after ensuring that there will be no loss of data in the process."
   ]
  },
  {
   "attachments": {},
   "cell_type": "markdown",
   "id": "turkish-kidney",
   "metadata": {},
   "source": [
    "![purple-divider](https://user-images.githubusercontent.com/7065401/52071927-c1cd7100-2562-11e9-908a-dde91ba14e59.png)\n",
    "\n",
    "# 📊 Analysis <a id='analysis'></a>  \n",
    "[Back to Contents](#contents)"
   ]
  },
  {
   "attachments": {},
   "cell_type": "markdown",
   "id": "short-capability",
   "metadata": {},
   "source": [
    "## 1. Verify that the `'order_hour_of_day'` and `'order_dow'` values in the `orders` tables are sensible (i.e. `'order_hour_of_day'` ranges from 0 to 23 and `'order_dow'` ranges from 0 to 6) <a id='analysis-1'></a>  \n",
    "[Back to Contents](#contents)"
   ]
  },
  {
   "attachments": {},
   "cell_type": "markdown",
   "id": "e95730b5",
   "metadata": {},
   "source": [
    "**Let's verify that the `order_hour_of_day` values in the `orders` table is sensible i.e. `order_hour_of_day` ranges from 0 to 23.** Let's print the list of unique values in `order_hour_of_day` column.  \n",
    "\n",
    "We could use `unique()` method on the Series - `orders['order_hour_of_day']` for doing so as `unique()` method returns an array of unique values in order of their appearance in the Series.  \n",
    "\n",
    "We could also sort the Series in ascending order using `sort_values()` before using `unique()` method so that it will be easy to look and verify the data."
   ]
  },
  {
   "cell_type": "code",
   "execution_count": 58,
   "id": "accessory-malaysia",
   "metadata": {},
   "outputs": [
    {
     "data": {
      "text/plain": [
       "array([ 0,  1,  2,  3,  4,  5,  6,  7,  8,  9, 10, 11, 12, 13, 14, 15, 16,\n",
       "       17, 18, 19, 20, 21, 22, 23])"
      ]
     },
     "execution_count": 58,
     "metadata": {},
     "output_type": "execute_result"
    }
   ],
   "source": [
    "# Printing the list of unique values in order_hour_of_day column\n",
    "orders['order_hour_of_day'].sort_values().unique()"
   ]
  },
  {
   "attachments": {},
   "cell_type": "markdown",
   "id": "9558d091",
   "metadata": {},
   "source": [
    "After looking at the values above, **we can now conclude that `order_hour_of_day` column contains hour of the day in 24-hour format and values range from 0 to 23**. \n",
    "\n",
    "Now, **let's verify that the `order_dow` values in the `orders` tables are also sensible i.e. `order_dow` ranges from 0 to 6**. We could use `unique()` method on the Series - `orders['order_dow']` for doing so as `unique()` method returns an array of unique values in order of their appearance in the Series.  \n",
    "\n",
    "We could also sort the Series in ascending order using `sort_values()` before using `unique()` method so that it will be easy to look and verify the data."
   ]
  },
  {
   "cell_type": "code",
   "execution_count": 59,
   "id": "1a9797bf",
   "metadata": {},
   "outputs": [
    {
     "data": {
      "text/plain": [
       "array([0, 1, 2, 3, 4, 5, 6])"
      ]
     },
     "execution_count": 59,
     "metadata": {},
     "output_type": "execute_result"
    }
   ],
   "source": [
    "# Printing the list of unique values in order_dow column\n",
    "orders['order_dow'].sort_values().unique()"
   ]
  },
  {
   "attachments": {},
   "cell_type": "markdown",
   "id": "1b333c18",
   "metadata": {},
   "source": [
    "We can safely conclude that **the `order_dow` values in the `orders` tables are also sensible i.e. `order_dow` ranges from 0 to 6**."
   ]
  },
  {
   "attachments": {},
   "cell_type": "markdown",
   "id": "a6743a70",
   "metadata": {},
   "source": [
    "<hr style=\"margin-bottom: 40px;\">\n",
    "\n",
    "## 2. What time of day do people shop for groceries?  <a id='analysis-2'></a>  \n",
    "[Back to Contents](#contents)"
   ]
  },
  {
   "attachments": {},
   "cell_type": "markdown",
   "id": "2db3350c",
   "metadata": {},
   "source": [
    "**Let's create a plot that shows how many people place orders for each hour of the day**.\n",
    "\n",
    "Let's first have a look at the data to refresh our memory how the data looks in `orders` Dataframe using `head()`."
   ]
  },
  {
   "cell_type": "code",
   "execution_count": 60,
   "id": "ea957cff",
   "metadata": {
    "scrolled": true
   },
   "outputs": [
    {
     "data": {
      "text/html": [
       "<div>\n",
       "<style scoped>\n",
       "    .dataframe tbody tr th:only-of-type {\n",
       "        vertical-align: middle;\n",
       "    }\n",
       "\n",
       "    .dataframe tbody tr th {\n",
       "        vertical-align: top;\n",
       "    }\n",
       "\n",
       "    .dataframe thead th {\n",
       "        text-align: right;\n",
       "    }\n",
       "</style>\n",
       "<table border=\"1\" class=\"dataframe\">\n",
       "  <thead>\n",
       "    <tr style=\"text-align: right;\">\n",
       "      <th></th>\n",
       "      <th>order_id</th>\n",
       "      <th>user_id</th>\n",
       "      <th>order_number</th>\n",
       "      <th>order_dow</th>\n",
       "      <th>order_hour_of_day</th>\n",
       "      <th>days_since_prior_order</th>\n",
       "    </tr>\n",
       "  </thead>\n",
       "  <tbody>\n",
       "    <tr>\n",
       "      <th>0</th>\n",
       "      <td>1515936</td>\n",
       "      <td>183418</td>\n",
       "      <td>11</td>\n",
       "      <td>6</td>\n",
       "      <td>13</td>\n",
       "      <td>30.0</td>\n",
       "    </tr>\n",
       "    <tr>\n",
       "      <th>1</th>\n",
       "      <td>1690866</td>\n",
       "      <td>163593</td>\n",
       "      <td>5</td>\n",
       "      <td>5</td>\n",
       "      <td>12</td>\n",
       "      <td>9.0</td>\n",
       "    </tr>\n",
       "    <tr>\n",
       "      <th>2</th>\n",
       "      <td>1454967</td>\n",
       "      <td>39980</td>\n",
       "      <td>4</td>\n",
       "      <td>5</td>\n",
       "      <td>19</td>\n",
       "      <td>2.0</td>\n",
       "    </tr>\n",
       "    <tr>\n",
       "      <th>3</th>\n",
       "      <td>1768857</td>\n",
       "      <td>82516</td>\n",
       "      <td>56</td>\n",
       "      <td>0</td>\n",
       "      <td>20</td>\n",
       "      <td>10.0</td>\n",
       "    </tr>\n",
       "    <tr>\n",
       "      <th>4</th>\n",
       "      <td>3007858</td>\n",
       "      <td>196724</td>\n",
       "      <td>2</td>\n",
       "      <td>4</td>\n",
       "      <td>12</td>\n",
       "      <td>17.0</td>\n",
       "    </tr>\n",
       "  </tbody>\n",
       "</table>\n",
       "</div>"
      ],
      "text/plain": [
       "   order_id  user_id  order_number  order_dow  order_hour_of_day  \\\n",
       "0   1515936   183418            11          6                 13   \n",
       "1   1690866   163593             5          5                 12   \n",
       "2   1454967    39980             4          5                 19   \n",
       "3   1768857    82516            56          0                 20   \n",
       "4   3007858   196724             2          4                 12   \n",
       "\n",
       "   days_since_prior_order  \n",
       "0                    30.0  \n",
       "1                     9.0  \n",
       "2                     2.0  \n",
       "3                    10.0  \n",
       "4                    17.0  "
      ]
     },
     "execution_count": 60,
     "metadata": {},
     "output_type": "execute_result"
    }
   ],
   "source": [
    "# Printing the first 5 rows\n",
    "orders.head()"
   ]
  },
  {
   "attachments": {},
   "cell_type": "markdown",
   "id": "dabe26d1",
   "metadata": {},
   "source": [
    "Also, let's see what the column descriptions say:\n",
    "- `order_id`: ID number that uniquely identifies each order\n",
    "- `user_id`: ID number that uniquely identifies each customer account\n",
    "- `order_number`: the number of times this customer has placed an order\n",
    "- `order_dow`: day of the week that the order placed (which day is 0 is uncertain)\n",
    "- `order_hour_of_day`: hour of the day that the order was placed\n",
    "- `days_since_prior_order`: number of days since this customer placed their previous order  "
   ]
  },
  {
   "attachments": {},
   "cell_type": "markdown",
   "id": "11270eed",
   "metadata": {},
   "source": [
    "**We'll first prepare a dataframe to count the number of orders made per hour of the day.** We can use `groupby()` method to group the data from `orders` Dataframe by `order_hour_of_day` and then, count all the order IDs in each group."
   ]
  },
  {
   "cell_type": "code",
   "execution_count": 61,
   "id": "a4d62037",
   "metadata": {},
   "outputs": [
    {
     "data": {
      "text/plain": [
       "order_hour_of_day\n",
       "0      3180\n",
       "1      1763\n",
       "2       989\n",
       "3       770\n",
       "4       765\n",
       "5      1371\n",
       "6      4215\n",
       "7     13043\n",
       "8     25024\n",
       "9     35896\n",
       "10    40578\n",
       "11    40032\n",
       "12    38034\n",
       "13    39007\n",
       "14    39631\n",
       "15    39789\n",
       "16    38112\n",
       "17    31930\n",
       "18    25510\n",
       "19    19547\n",
       "20    14624\n",
       "21    11019\n",
       "22     8512\n",
       "23     5611\n",
       "Name: order_id, dtype: int64"
      ]
     },
     "execution_count": 61,
     "metadata": {},
     "output_type": "execute_result"
    }
   ],
   "source": [
    "# Counting the number of orders made per hour of the day\n",
    "orders_per_hour_of_the_day = orders.groupby('order_hour_of_day')['order_id'].count()\n",
    "orders_per_hour_of_the_day"
   ]
  },
  {
   "attachments": {},
   "cell_type": "markdown",
   "id": "5b55bbe3",
   "metadata": {},
   "source": [
    "Now, since we have proper Dataframe - `orders_per_hour_of_the_day`, we'll plot a bar chart to show how many people place orders for each hour of the day."
   ]
  },
  {
   "cell_type": "code",
   "execution_count": 62,
   "id": "4e7f0e52",
   "metadata": {},
   "outputs": [
    {
     "data": {
      "image/png": "[encoded data removed]",
      "text/plain": [
       "<Figure size 1200x800 with 1 Axes>"
      ]
     },
     "metadata": {},
     "output_type": "display_data"
    }
   ],
   "source": [
    "# Plotting a bar chart to show how many people place orders for each hour of the day\n",
    "orders_per_hour_of_the_day.plot(\n",
    "                            kind='bar',\n",
    "                            title='Order placed each hour of the day',\n",
    "                            xlabel='Hour of Day (24-hour format)',\n",
    "                            ylabel='Number of Orders',\n",
    "                            figsize=[12, 8],\n",
    "                            color='DarkRed',\n",
    "                            rot=0)\n",
    "\n",
    "plt.show()"
   ]
  },
  {
   "attachments": {},
   "cell_type": "markdown",
   "id": "c3cdd584",
   "metadata": {},
   "source": [
    "**We can conclude from the above graph that**:\n",
    "1. The peak time when most of the people shop for groceries is around 10AM.\n",
    "2. The time range when usually people shop for groceries is from 10AM to 4PM."
   ]
  },
  {
   "attachments": {},
   "cell_type": "markdown",
   "id": "f663ce6e",
   "metadata": {},
   "source": [
    "After analyzing the visualization above, it becomes apparent that **there is a significant decrease in orders from midnight until 5 in the morning**, which is understandable as people are generally sleeping at this time. However, **as the day progresses, there is an increase in orders from early morning shoppers which peaks in the late morning and remains steady throughout the afternoon. Towards the evening, there is a gradual decrease in orders**."
   ]
  },
  {
   "attachments": {},
   "cell_type": "markdown",
   "id": "documented-command",
   "metadata": {},
   "source": [
    "<hr style=\"margin-bottom: 40px;\">\n",
    "\n",
    "## 3. What day of the week do people shop for groceries?  <a id='analysis-3'></a>  \n",
    "[Back to Contents](#contents)"
   ]
  },
  {
   "attachments": {},
   "cell_type": "markdown",
   "id": "21eaf870",
   "metadata": {},
   "source": [
    "Let's **create a plot that shows what day of the week people shop for groceries**."
   ]
  },
  {
   "attachments": {},
   "cell_type": "markdown",
   "id": "b37f974a",
   "metadata": {},
   "source": [
    "**We'll first prepare a dataframe to count the number of orders made each day of the week.** We can use `groupby()` method to group the data from `orders` Dataframe by `order_dow` and then, count all the order IDs in each group."
   ]
  },
  {
   "cell_type": "code",
   "execution_count": 63,
   "id": "2442deb4",
   "metadata": {},
   "outputs": [
    {
     "data": {
      "text/plain": [
       "order_dow\n",
       "0    84090\n",
       "1    82185\n",
       "2    65833\n",
       "3    60897\n",
       "4    59810\n",
       "5    63488\n",
       "6    62649\n",
       "Name: order_id, dtype: int64"
      ]
     },
     "execution_count": 63,
     "metadata": {},
     "output_type": "execute_result"
    }
   ],
   "source": [
    "# Counting the number of orders made each day of the week\n",
    "orders_per_day_of_the_week = orders.groupby('order_dow')['order_id'].count()\n",
    "orders_per_day_of_the_week"
   ]
  },
  {
   "attachments": {},
   "cell_type": "markdown",
   "id": "f1fb6fef",
   "metadata": {},
   "source": [
    "Now, since we have proper Dataframe - `orders_per_day_of_the_week`, we'll plot a bar chart to show what day of the week people shop for groceries."
   ]
  },
  {
   "cell_type": "code",
   "execution_count": 64,
   "id": "60a71fba",
   "metadata": {},
   "outputs": [
    {
     "data": {
      "image/png": "[encoded data removed]",
      "text/plain": [
       "<Figure size 1200x800 with 1 Axes>"
      ]
     },
     "metadata": {},
     "output_type": "display_data"
    }
   ],
   "source": [
    "# Plotting a bar chart to show what day of the week people shop for groceries\n",
    "orders_per_day_of_the_week.plot(\n",
    "                            kind='bar',\n",
    "                            title='Orders placed each day of the week',\n",
    "                            xlabel='Day of the week',\n",
    "                            ylabel='Number of Orders',\n",
    "                            figsize=[12, 8],\n",
    "                            color='LightSeaGreen',\n",
    "                            rot=45)\n",
    "\n",
    "plt.show()"
   ]
  },
  {
   "attachments": {},
   "cell_type": "markdown",
   "id": "0f5cd085",
   "metadata": {},
   "source": [
    "Based on the information provided in the plot, **it can be concluded that the integers 0 and 1 correspond to Saturday and Sunday, respectively, while integers 2-6 represent the weekdays**. This inference can be made because the plot shows a higher number of orders placed on weekends compared to weekdays. Therefore, the starting day of the week in this scenario would be Saturday (0) and end on Friday (6)."
   ]
  },
  {
   "attachments": {},
   "cell_type": "markdown",
   "id": "f926d8fd",
   "metadata": {},
   "source": [
    "In summary, **shopping activity tends to be higher on weekends than weekdays, with Saturdays being more popular than Sundays**. Among the weekdays, Wednesday has the lowest shopping activity while Monday has the highest."
   ]
  },
  {
   "attachments": {},
   "cell_type": "markdown",
   "id": "cutting-concert",
   "metadata": {},
   "source": [
    "<hr style=\"margin-bottom: 40px;\">\n",
    "\n",
    "## 4. How long do people wait until placing another order?  <a id='analysis-4'></a>  \n",
    "[Back to Contents](#contents)"
   ]
  },
  {
   "attachments": {},
   "cell_type": "markdown",
   "id": "7239a144",
   "metadata": {},
   "source": [
    "Let's **create a plot that shows how long people wait until placing their next order**, and find out the minimum and maximum values."
   ]
  },
  {
   "attachments": {},
   "cell_type": "markdown",
   "id": "discrete-vertex",
   "metadata": {},
   "source": [
    "We'll first prepare a dataframe to show how long people wait until placing their next order. We can use `groupby()` method to group the data from `orders` Dataframe by `days_since_prior_order` and then, count all the order IDs in each group."
   ]
  },
  {
   "cell_type": "code",
   "execution_count": 65,
   "id": "exciting-fantasy",
   "metadata": {},
   "outputs": [
    {
     "data": {
      "text/plain": [
       "days_since_prior_order\n",
       "0.0      9589\n",
       "1.0     20179\n",
       "2.0     27138\n",
       "3.0     30224\n",
       "4.0     31006\n",
       "5.0     30096\n",
       "6.0     33930\n",
       "7.0     44577\n",
       "8.0     25361\n",
       "9.0     16753\n",
       "10.0    13309\n",
       "11.0    11467\n",
       "12.0    10658\n",
       "13.0    11737\n",
       "14.0    13992\n",
       "15.0     9416\n",
       "16.0     6587\n",
       "17.0     5498\n",
       "18.0     4971\n",
       "19.0     4939\n",
       "20.0     5302\n",
       "21.0     6448\n",
       "22.0     4514\n",
       "23.0     3337\n",
       "24.0     3015\n",
       "25.0     2711\n",
       "26.0     2640\n",
       "27.0     2986\n",
       "28.0     3745\n",
       "29.0     2673\n",
       "30.0    51337\n",
       "Name: order_id, dtype: int64"
      ]
     },
     "execution_count": 65,
     "metadata": {},
     "output_type": "execute_result"
    }
   ],
   "source": [
    "# How long people wait until placing their next order\n",
    "orders_after_wait = orders.groupby('days_since_prior_order')['order_id'].count()\n",
    "orders_after_wait"
   ]
  },
  {
   "attachments": {},
   "cell_type": "markdown",
   "id": "8d926614",
   "metadata": {},
   "source": [
    "Now, since we have proper Dataframe - `orders_after_wait`, we'll plot a bar chart to show how long people wait until placing their next order."
   ]
  },
  {
   "cell_type": "code",
   "execution_count": 66,
   "id": "528175c6",
   "metadata": {},
   "outputs": [
    {
     "data": {
      "image/png": "[encoded data removed]",
      "text/plain": [
       "<Figure size 1200x800 with 1 Axes>"
      ]
     },
     "metadata": {},
     "output_type": "display_data"
    }
   ],
   "source": [
    "# Plotting a bar chart to show how long people wait until placing their next order\n",
    "orders_after_wait.plot(\n",
    "                        kind='bar',\n",
    "                        title='No of days people wait before prior order',\n",
    "                        xlabel='No of days since prior order',\n",
    "                        ylabel='No of Orders',\n",
    "                        figsize=[12, 8],\n",
    "                        color='DodgerBlue',\n",
    "                        rot=45)\n",
    "\n",
    "plt.show()"
   ]
  },
  {
   "attachments": {},
   "cell_type": "markdown",
   "id": "b8276581",
   "metadata": {},
   "source": [
    "**From the above graph, we can conclude that** -\n",
    "1. People usually wait for 30 days since the prior order, at maximum to order groceries another time.\n",
    "2. Very less people order the next groceries between 22 to 29 days.\n",
    "3. The start of the month is usually a busy time when most of people order groceries.\n",
    "4. The number of orders decreases gradually through the later part of the month."
   ]
  },
  {
   "attachments": {},
   "cell_type": "markdown",
   "id": "ae51fcb0",
   "metadata": {},
   "source": [
    "Typically, people wait up to 30 days to order groceries again after their prior order, with very few placing their next order between 22 to 29 days. The beginning of the month tends to be a popular time for grocery orders, while the number of orders gradually decreases throughout the later part of the month."
   ]
  },
  {
   "attachments": {},
   "cell_type": "markdown",
   "id": "packed-classic",
   "metadata": {},
   "source": [
    "<hr style=\"margin-bottom: 40px;\">\n",
    "\n",
    "## 5. Is there a difference in `'order_hour_of_day'` distributions on Wednesdays and Saturdays?  <a id='analysis-5'></a>  \n",
    "[Back to Contents](#contents)"
   ]
  },
  {
   "cell_type": "code",
   "execution_count": 67,
   "id": "c97e4f72",
   "metadata": {},
   "outputs": [
    {
     "data": {
      "text/plain": [
       "3         20\n",
       "5         11\n",
       "7         18\n",
       "23         0\n",
       "25        11\n",
       "          ..\n",
       "478924    16\n",
       "478926    10\n",
       "478932     8\n",
       "478933     9\n",
       "478944    13\n",
       "Name: order_hour_of_day, Length: 84090, dtype: int64"
      ]
     },
     "execution_count": 67,
     "metadata": {},
     "output_type": "execute_result"
    }
   ],
   "source": [
    "# Filtering by orders placed on Saturdays i.e. order_dow = 0\n",
    "sat_orders = orders.query(\"order_dow == 0\")['order_hour_of_day']\n",
    "sat_orders"
   ]
  },
  {
   "cell_type": "code",
   "execution_count": 68,
   "id": "94e54e8a",
   "metadata": {},
   "outputs": [
    {
     "data": {
      "text/plain": [
       "4         12\n",
       "9          8\n",
       "10        11\n",
       "17        22\n",
       "21         9\n",
       "          ..\n",
       "478906    22\n",
       "478911    19\n",
       "478916    22\n",
       "478929    23\n",
       "478943     9\n",
       "Name: order_hour_of_day, Length: 59810, dtype: int64"
      ]
     },
     "execution_count": 68,
     "metadata": {},
     "output_type": "execute_result"
    }
   ],
   "source": [
    "# Filtering by orders placed on Wednesdays i.e. order_dow = 4\n",
    "wed_orders = orders.query(\"order_dow == 4\")['order_hour_of_day']\n",
    "wed_orders"
   ]
  },
  {
   "cell_type": "code",
   "execution_count": 69,
   "id": "797c90a8",
   "metadata": {
    "scrolled": false
   },
   "outputs": [
    {
     "data": {
      "image/png": "[encoded data removed]",
      "text/plain": [
       "<Figure size 1200x800 with 1 Axes>"
      ]
     },
     "metadata": {},
     "output_type": "display_data"
    }
   ],
   "source": [
    "# Plotting histogram for the orders placed on Saturdays\n",
    "sat_orders.plot(\n",
    "    kind='hist',\n",
    "    bins=20,\n",
    "    title='Saturdays vs Wednesdays Order Distribution',\n",
    "    figsize=[12, 8],\n",
    "    color='DeepSkyBlue')\n",
    "\n",
    "# Plotting histogram for the orders placed on Wednesdays\n",
    "wed_orders.plot(kind='hist', bins=20, alpha=0.5, color='OrangeRed')\n",
    "\n",
    "plt.legend(['Saturday', 'Wednesday'])\n",
    "plt.xlabel('Hour of the day (24-hours format)')\n",
    "plt.show()"
   ]
  },
  {
   "attachments": {},
   "cell_type": "markdown",
   "id": "6d066779",
   "metadata": {},
   "source": [
    "**We can conclude from the graph above that**:\n",
    "1. There is no apparent distribution differences between orders placed on Wednesdays or Saturdays.\n",
    "2. The peak ordering times are look generally similar i.e. 15:00 - 16:00 or 3:00PM - 4:00PM.\n",
    "3. The early hours of the day are usually the quietest and as the day goes by, the number of orders placed increses gradually.\n",
    "4. The main difference is the volume of orders, as there are many more orders placed on Saturdays than on Wednesdays."
   ]
  },
  {
   "attachments": {},
   "cell_type": "markdown",
   "id": "charitable-congo",
   "metadata": {},
   "source": [
    "The visualization shows that there are no observable variations in the distribution of orders placed on Wednesdays versus Saturdays, and the busiest ordering hours tend to be between 3:00PM to 4:00PM. Additionally, the early hours of the day tend to be the least active for orders, with order volume gradually increasing as the day progresses. However, the key distinction between Wednesdays and Saturdays is the number of orders placed, with significantly more orders being placed on Saturdays than on Wednesdays."
   ]
  },
  {
   "attachments": {},
   "cell_type": "markdown",
   "id": "e3891143",
   "metadata": {},
   "source": [
    "<hr style=\"margin-bottom: 40px;\">\n",
    "\n",
    "## 6. What's the distribution for the number of orders per customer?  <a id='analysis-6'></a>  \n",
    "[Back to Contents](#contents)"
   ]
  },
  {
   "attachments": {},
   "cell_type": "markdown",
   "id": "830e63e9",
   "metadata": {},
   "source": [
    "Let's **plot the distribution for the number of orders that customers place** (e.g. how many customers placed only 1 order, how many placed only 2, how many only 3, and so on…)"
   ]
  },
  {
   "attachments": {},
   "cell_type": "markdown",
   "id": "8ce795e4",
   "metadata": {},
   "source": [
    "For plotting the graph, we would need to count how many times each user ID appears in the table, which should be equal to the number of orders they placed. Let's compute the Dataframe."
   ]
  },
  {
   "cell_type": "code",
   "execution_count": 70,
   "id": "7c3faeb1",
   "metadata": {},
   "outputs": [
    {
     "data": {
      "text/plain": [
       "user_id\n",
       "2         2\n",
       "4         2\n",
       "5         1\n",
       "6         2\n",
       "7         2\n",
       "         ..\n",
       "206203    1\n",
       "206206    7\n",
       "206207    5\n",
       "206208    9\n",
       "206209    2\n",
       "Name: order_id, Length: 157437, dtype: int64"
      ]
     },
     "execution_count": 70,
     "metadata": {},
     "output_type": "execute_result"
    }
   ],
   "source": [
    "# Counting how many times each user ID appears in the table\n",
    "orders_per_cust = orders.groupby('user_id')['order_id'].count()\n",
    "orders_per_cust"
   ]
  },
  {
   "attachments": {},
   "cell_type": "markdown",
   "id": "d2eff7d5",
   "metadata": {},
   "source": [
    "Let's plot the distribution for the number of orders that customers place."
   ]
  },
  {
   "cell_type": "code",
   "execution_count": 71,
   "id": "b8ae2c8c",
   "metadata": {},
   "outputs": [
    {
     "data": {
      "image/png": "[encoded data removed]",
      "text/plain": [
       "<Figure size 1200x800 with 1 Axes>"
      ]
     },
     "metadata": {},
     "output_type": "display_data"
    }
   ],
   "source": [
    "# Plotting histogram for the number of orders per customer\n",
    "orders_per_cust.plot(\n",
    "    kind='hist',\n",
    "    bins=15,\n",
    "    title='Orders per customer',\n",
    "    figsize=[12, 8],\n",
    "    color='DeepSkyBlue')\n",
    "\n",
    "plt.xlabel('No of orders placed by the customers')\n",
    "\n",
    "plt.show()"
   ]
  },
  {
   "attachments": {},
   "cell_type": "markdown",
   "id": "123b7658",
   "metadata": {},
   "source": [
    "**We can conclude from the graph above that:**\n",
    "1. Most of the customers (above 80000) place orders once or twice a month.\n",
    "2. There are many customers who place orders from 3 to 8 times a month too.\n",
    "3. The number of times customers tend to place orders in a month decreases significantly from 9 times onwards."
   ]
  },
  {
   "attachments": {},
   "cell_type": "markdown",
   "id": "54a0319c",
   "metadata": {},
   "source": [
    "<hr style=\"margin-bottom: 40px;\">\n",
    "\n",
    "## 7. What are the top 20 popular products?  <a id='analysis-7'></a>  \n",
    "[Back to Contents](#contents)"
   ]
  },
  {
   "attachments": {},
   "cell_type": "markdown",
   "id": "5a92bf98",
   "metadata": {},
   "source": [
    "Let's try to find out the top 20 popular products.  \n",
    "\n",
    "In order to find that we need to merge two dataframes - `order_products` and `products` on `product_id`s to get all the required columns."
   ]
  },
  {
   "cell_type": "code",
   "execution_count": 72,
   "id": "universal-facial",
   "metadata": {},
   "outputs": [
    {
     "data": {
      "text/html": [
       "<div>\n",
       "<style scoped>\n",
       "    .dataframe tbody tr th:only-of-type {\n",
       "        vertical-align: middle;\n",
       "    }\n",
       "\n",
       "    .dataframe tbody tr th {\n",
       "        vertical-align: top;\n",
       "    }\n",
       "\n",
       "    .dataframe thead th {\n",
       "        text-align: right;\n",
       "    }\n",
       "</style>\n",
       "<table border=\"1\" class=\"dataframe\">\n",
       "  <thead>\n",
       "    <tr style=\"text-align: right;\">\n",
       "      <th></th>\n",
       "      <th>order_id</th>\n",
       "      <th>product_id</th>\n",
       "      <th>add_to_cart_order</th>\n",
       "      <th>reordered</th>\n",
       "      <th>product_name</th>\n",
       "      <th>aisle_id</th>\n",
       "      <th>department_id</th>\n",
       "    </tr>\n",
       "  </thead>\n",
       "  <tbody>\n",
       "    <tr>\n",
       "      <th>0</th>\n",
       "      <td>2141543</td>\n",
       "      <td>11440</td>\n",
       "      <td>17</td>\n",
       "      <td>0</td>\n",
       "      <td>Chicken Breast Tenders Breaded</td>\n",
       "      <td>129</td>\n",
       "      <td>1</td>\n",
       "    </tr>\n",
       "    <tr>\n",
       "      <th>1</th>\n",
       "      <td>567889</td>\n",
       "      <td>1560</td>\n",
       "      <td>1</td>\n",
       "      <td>1</td>\n",
       "      <td>Bag Of Ice</td>\n",
       "      <td>37</td>\n",
       "      <td>1</td>\n",
       "    </tr>\n",
       "    <tr>\n",
       "      <th>2</th>\n",
       "      <td>2261212</td>\n",
       "      <td>26683</td>\n",
       "      <td>1</td>\n",
       "      <td>1</td>\n",
       "      <td>Cafe Latte Pure Lightly Sweetened Iced Coffee ...</td>\n",
       "      <td>91</td>\n",
       "      <td>16</td>\n",
       "    </tr>\n",
       "    <tr>\n",
       "      <th>3</th>\n",
       "      <td>491251</td>\n",
       "      <td>8670</td>\n",
       "      <td>35</td>\n",
       "      <td>1</td>\n",
       "      <td>Diced Tomatoes</td>\n",
       "      <td>81</td>\n",
       "      <td>15</td>\n",
       "    </tr>\n",
       "    <tr>\n",
       "      <th>4</th>\n",
       "      <td>2571142</td>\n",
       "      <td>1940</td>\n",
       "      <td>5</td>\n",
       "      <td>1</td>\n",
       "      <td>Organic 2% Reduced Fat Milk</td>\n",
       "      <td>84</td>\n",
       "      <td>16</td>\n",
       "    </tr>\n",
       "  </tbody>\n",
       "</table>\n",
       "</div>"
      ],
      "text/plain": [
       "   order_id  product_id  add_to_cart_order  reordered  \\\n",
       "0   2141543       11440                 17          0   \n",
       "1    567889        1560                  1          1   \n",
       "2   2261212       26683                  1          1   \n",
       "3    491251        8670                 35          1   \n",
       "4   2571142        1940                  5          1   \n",
       "\n",
       "                                        product_name  aisle_id  department_id  \n",
       "0                     Chicken Breast Tenders Breaded       129              1  \n",
       "1                                         Bag Of Ice        37              1  \n",
       "2  Cafe Latte Pure Lightly Sweetened Iced Coffee ...        91             16  \n",
       "3                                     Diced Tomatoes        81             15  \n",
       "4                        Organic 2% Reduced Fat Milk        84             16  "
      ]
     },
     "execution_count": 72,
     "metadata": {},
     "output_type": "execute_result"
    }
   ],
   "source": [
    "# Merging order_products and products file on product_id to collect the product_name\n",
    "merged_orders = order_products.merge(products, how='left', on='product_id')\n",
    "merged_orders.head()"
   ]
  },
  {
   "cell_type": "code",
   "execution_count": 73,
   "id": "cb477100",
   "metadata": {},
   "outputs": [
    {
     "data": {
      "text/plain": [
       "product_id  product_name                                          \n",
       "24852       Banana                                                    66050\n",
       "13176       Bag of Organic Bananas                                    53297\n",
       "21137       Organic Strawberries                                      37039\n",
       "21903       Organic Baby Spinach                                      33971\n",
       "47209       Organic Hass Avocado                                      29773\n",
       "                                                                      ...  \n",
       "5836        Arctic D Cod Liver Oil Lemon                                  1\n",
       "43573       Whisk- 10 Inch                                                1\n",
       "43570       Queso Cotija                                                  1\n",
       "36174       Whole Pinto Beans                                             1\n",
       "41403       Extra Rich & Thick Spaghetti Sauce Spices & Seasonings        1\n",
       "Name: order_id, Length: 45573, dtype: int64"
      ]
     },
     "execution_count": 73,
     "metadata": {},
     "output_type": "execute_result"
    }
   ],
   "source": [
    "# Getting the count of all the purchased products sorted in descending order along with their purchase counts\n",
    "purchased_prodcuts_sorted = merged_orders.groupby(['product_id', 'product_name']).count().sort_values(by='order_id', ascending=False)['order_id']\n",
    "purchased_prodcuts_sorted"
   ]
  },
  {
   "attachments": {},
   "cell_type": "markdown",
   "id": "24dabfc8",
   "metadata": {},
   "source": [
    "We're very close to our analysis. Let's get the top 20 products by using `head(20)` on the Series."
   ]
  },
  {
   "cell_type": "code",
   "execution_count": 74,
   "id": "4c0f7013",
   "metadata": {
    "scrolled": true
   },
   "outputs": [
    {
     "data": {
      "text/plain": [
       "product_id  product_name            \n",
       "24852       Banana                      66050\n",
       "13176       Bag of Organic Bananas      53297\n",
       "21137       Organic Strawberries        37039\n",
       "21903       Organic Baby Spinach        33971\n",
       "47209       Organic Hass Avocado        29773\n",
       "47766       Organic Avocado             24689\n",
       "47626       Large Lemon                 21495\n",
       "16797       Strawberries                20018\n",
       "26209       Limes                       19690\n",
       "27845       Organic Whole Milk          19600\n",
       "27966       Organic Raspberries         19197\n",
       "22935       Organic Yellow Onion        15898\n",
       "24964       Organic Garlic              15292\n",
       "45007       Organic Zucchini            14584\n",
       "39275       Organic Blueberries         13879\n",
       "49683       Cucumber Kirby              13675\n",
       "28204       Organic Fuji Apple          12544\n",
       "5876        Organic Lemon               12232\n",
       "8277        Apple Honeycrisp Organic    11993\n",
       "40706       Organic Grape Tomatoes      11781\n",
       "Name: order_id, dtype: int64"
      ]
     },
     "execution_count": 74,
     "metadata": {},
     "output_type": "execute_result"
    }
   ],
   "source": [
    "# Getting the top 20 purchased products\n",
    "top_20_products = purchased_prodcuts_sorted.head(20)\n",
    "top_20_products"
   ]
  },
  {
   "cell_type": "code",
   "execution_count": 75,
   "id": "c5ceb1a5",
   "metadata": {},
   "outputs": [
    {
     "data": {
      "image/png": "[encoded data removed]",
      "text/plain": [
       "<Figure size 1800x800 with 1 Axes>"
      ]
     },
     "metadata": {},
     "output_type": "display_data"
    }
   ],
   "source": [
    "ax = top_20_products.reset_index().set_index('product_name')['order_id'].plot.bar(figsize=(18,8))\n",
    "\n",
    "allpatches=[]\n",
    "for i in ax.patches:\n",
    "    allpatches.append(i.get_height())\n",
    "\n",
    "\n",
    "for i in ax.patches:\n",
    "    \n",
    "    ax.text(i.get_x()-0.05, i.get_height()+500, i.get_height(), fontsize=14, color='black')\n",
    "\n",
    "plt.title('Products')\n",
    "plt.xlabel('products')\n",
    "plt.ylabel('');"
   ]
  },
  {
   "attachments": {},
   "cell_type": "markdown",
   "id": "0a8595ca",
   "metadata": {},
   "source": [
    "**Based on the list of the top 20 purchased products in the study and the graph above, some conclusions that can be drawn are**:\n",
    "\n",
    "1. Fresh fruits and vegetables dominate the list.\n",
    "2. Organic products are popular: 13 out of the top 20 products are organic.\n",
    "3. Dairy is not as popular: Only one dairy product, organic whole milk, is on the list.\n",
    "4. The top products are likely staple items: Many of the top products, such as bananas, strawberries, spinach, and avocados, are likely used frequently and considered staples by many consumers."
   ]
  },
  {
   "attachments": {},
   "cell_type": "markdown",
   "id": "romantic-deposit",
   "metadata": {},
   "source": [
    "<hr style=\"margin-bottom: 40px;\">\n",
    "\n",
    "## 8. How many items do people typically buy in one order?  <a id='analysis-8'></a>  \n",
    "[Back to Contents](#contents)"
   ]
  },
  {
   "attachments": {},
   "cell_type": "markdown",
   "id": "4dd131f4",
   "metadata": {},
   "source": [
    "Let's try to find out **How many items do people typically buy in one order**?"
   ]
  },
  {
   "attachments": {},
   "cell_type": "markdown",
   "id": "0057fd00",
   "metadata": {},
   "source": [
    "First, let's prepare a dataset - counting the number of items per unique `order_id`. This will give us an idea that how many items have been ordered per order by the customers."
   ]
  },
  {
   "cell_type": "code",
   "execution_count": 76,
   "id": "virtual-punch",
   "metadata": {},
   "outputs": [
    {
     "data": {
      "text/html": [
       "<div>\n",
       "<style scoped>\n",
       "    .dataframe tbody tr th:only-of-type {\n",
       "        vertical-align: middle;\n",
       "    }\n",
       "\n",
       "    .dataframe tbody tr th {\n",
       "        vertical-align: top;\n",
       "    }\n",
       "\n",
       "    .dataframe thead th {\n",
       "        text-align: right;\n",
       "    }\n",
       "</style>\n",
       "<table border=\"1\" class=\"dataframe\">\n",
       "  <thead>\n",
       "    <tr style=\"text-align: right;\">\n",
       "      <th></th>\n",
       "      <th>product_id</th>\n",
       "      <th>add_to_cart_order</th>\n",
       "    </tr>\n",
       "    <tr>\n",
       "      <th>order_id</th>\n",
       "      <th></th>\n",
       "      <th></th>\n",
       "    </tr>\n",
       "  </thead>\n",
       "  <tbody>\n",
       "    <tr>\n",
       "      <th>4</th>\n",
       "      <td>13</td>\n",
       "      <td>13</td>\n",
       "    </tr>\n",
       "    <tr>\n",
       "      <th>9</th>\n",
       "      <td>15</td>\n",
       "      <td>15</td>\n",
       "    </tr>\n",
       "    <tr>\n",
       "      <th>11</th>\n",
       "      <td>5</td>\n",
       "      <td>5</td>\n",
       "    </tr>\n",
       "    <tr>\n",
       "      <th>19</th>\n",
       "      <td>3</td>\n",
       "      <td>3</td>\n",
       "    </tr>\n",
       "    <tr>\n",
       "      <th>20</th>\n",
       "      <td>8</td>\n",
       "      <td>8</td>\n",
       "    </tr>\n",
       "    <tr>\n",
       "      <th>...</th>\n",
       "      <td>...</td>\n",
       "      <td>...</td>\n",
       "    </tr>\n",
       "    <tr>\n",
       "      <th>3421034</th>\n",
       "      <td>17</td>\n",
       "      <td>17</td>\n",
       "    </tr>\n",
       "    <tr>\n",
       "      <th>3421053</th>\n",
       "      <td>9</td>\n",
       "      <td>9</td>\n",
       "    </tr>\n",
       "    <tr>\n",
       "      <th>3421071</th>\n",
       "      <td>5</td>\n",
       "      <td>5</td>\n",
       "    </tr>\n",
       "    <tr>\n",
       "      <th>3421077</th>\n",
       "      <td>4</td>\n",
       "      <td>4</td>\n",
       "    </tr>\n",
       "    <tr>\n",
       "      <th>3421079</th>\n",
       "      <td>1</td>\n",
       "      <td>1</td>\n",
       "    </tr>\n",
       "  </tbody>\n",
       "</table>\n",
       "<p>450046 rows × 2 columns</p>\n",
       "</div>"
      ],
      "text/plain": [
       "          product_id  add_to_cart_order\n",
       "order_id                               \n",
       "4                 13                 13\n",
       "9                 15                 15\n",
       "11                 5                  5\n",
       "19                 3                  3\n",
       "20                 8                  8\n",
       "...              ...                ...\n",
       "3421034           17                 17\n",
       "3421053            9                  9\n",
       "3421071            5                  5\n",
       "3421077            4                  4\n",
       "3421079            1                  1\n",
       "\n",
       "[450046 rows x 2 columns]"
      ]
     },
     "execution_count": 76,
     "metadata": {},
     "output_type": "execute_result"
    }
   ],
   "source": [
    "# Counting the number of items per unique order_id\n",
    "items_per_order = order_products.groupby('order_id').count()[['product_id', 'add_to_cart_order']]\n",
    "items_per_order"
   ]
  },
  {
   "attachments": {},
   "cell_type": "markdown",
   "id": "8b558d65",
   "metadata": {},
   "source": [
    "Now, let's get the data that can represent the frequency distribution of the number of items purchased per order by customers and then, sort the frequencies in the descending order by using `sort_values(ascending=False)` to get the top frequencies."
   ]
  },
  {
   "cell_type": "code",
   "execution_count": 77,
   "id": "1fc7c272",
   "metadata": {},
   "outputs": [
    {
     "data": {
      "text/plain": [
       "no_of_items_per_order\n",
       "5      31923\n",
       "6      31698\n",
       "4      31054\n",
       "7      30822\n",
       "3      29046\n",
       "       ...  \n",
       "80         1\n",
       "87         1\n",
       "85         1\n",
       "72         1\n",
       "127        1\n",
       "Name: add_to_cart_order, Length: 90, dtype: int64"
      ]
     },
     "execution_count": 77,
     "metadata": {},
     "output_type": "execute_result"
    }
   ],
   "source": [
    "# Getting how many times a certain no. of items has been repeated in different orders\n",
    "items_per_order = items_per_order.rename(columns={'product_id': 'no_of_items_per_order'})\n",
    "freq_of_items_per_order = items_per_order.groupby('no_of_items_per_order').count()['add_to_cart_order'].sort_values(ascending=False)\n",
    "freq_of_items_per_order"
   ]
  },
  {
   "attachments": {},
   "cell_type": "markdown",
   "id": "f6a08918",
   "metadata": {},
   "source": [
    "Perfect! **The most frequent number of items purchased per order is 5, with 31,923 occurrences. This indicates that this is a popular quantity of items for customers to purchase.**"
   ]
  },
  {
   "cell_type": "code",
   "execution_count": 78,
   "id": "e89d2100",
   "metadata": {},
   "outputs": [
    {
     "data": {
      "text/plain": [
       "no_of_items_per_order\n",
       "5     31923\n",
       "6     31698\n",
       "4     31054\n",
       "7     30822\n",
       "3     29046\n",
       "8     28539\n",
       "2     26292\n",
       "9     25742\n",
       "10    23248\n",
       "1     21847\n",
       "11    20406\n",
       "12    18539\n",
       "13    16497\n",
       "14    14472\n",
       "15    12696\n",
       "16    11465\n",
       "17    10002\n",
       "18     8726\n",
       "19     7612\n",
       "20     6771\n",
       "Name: add_to_cart_order, dtype: int64"
      ]
     },
     "execution_count": 78,
     "metadata": {},
     "output_type": "execute_result"
    }
   ],
   "source": [
    "# Getting the first 20 most common number of items purchased per order\n",
    "freq_of_items_per_order.head(20)"
   ]
  },
  {
   "cell_type": "code",
   "execution_count": 79,
   "id": "f41749e5",
   "metadata": {},
   "outputs": [
    {
     "data": {
      "text/plain": [
       "no_of_items_per_order\n",
       "71     3\n",
       "74     3\n",
       "86     3\n",
       "68     2\n",
       "78     2\n",
       "92     2\n",
       "91     2\n",
       "77     2\n",
       "76     2\n",
       "75     2\n",
       "95     2\n",
       "98     1\n",
       "108    1\n",
       "104    1\n",
       "115    1\n",
       "80     1\n",
       "87     1\n",
       "85     1\n",
       "72     1\n",
       "127    1\n",
       "Name: add_to_cart_order, dtype: int64"
      ]
     },
     "execution_count": 79,
     "metadata": {},
     "output_type": "execute_result"
    }
   ],
   "source": [
    "# Getting the last 20 most common number of items purchased per order\n",
    "freq_of_items_per_order.tail(20)"
   ]
  },
  {
   "attachments": {},
   "cell_type": "markdown",
   "id": "a8f90685",
   "metadata": {},
   "source": [
    "Let's plot a histogram to visualize the frequency distribution."
   ]
  },
  {
   "cell_type": "code",
   "execution_count": 80,
   "id": "51df8cde",
   "metadata": {},
   "outputs": [
    {
     "data": {
      "image/png": "[encoded data removed]",
      "text/plain": [
       "<Figure size 1200x800 with 1 Axes>"
      ]
     },
     "metadata": {},
     "output_type": "display_data"
    }
   ],
   "source": [
    "# Plotting distribution of items per order\n",
    "items_per_order['add_to_cart_order'].hist(bins=128, figsize=[12, 8], color='OrangeRed')\n",
    "plt.xlabel('Items per order')\n",
    "plt.ylabel('Total orders')\n",
    "plt.title('Number of Items Per Order')\n",
    "\n",
    "plt.show()"
   ]
  },
  {
   "cell_type": "code",
   "execution_count": 81,
   "id": "5a28f16e",
   "metadata": {},
   "outputs": [
    {
     "name": "stdout",
     "output_type": "stream",
     "text": [
      "The minimum no. of items per order is no_of_items_per_order    1\n",
      "add_to_cart_order        1\n",
      "dtype: int64 and the maximum no. of items per order is no_of_items_per_order    127\n",
      "add_to_cart_order        127\n",
      "dtype: int64\n"
     ]
    }
   ],
   "source": [
    "# Calculating minimum and maximum items per order\n",
    "items_per_order_min = items_per_order.min()\n",
    "items_per_order_max = items_per_order.max()\n",
    "\n",
    "print(f'The minimum no. of items per order is {items_per_order_min} and the maximum no. of items per order is {items_per_order_max}')"
   ]
  },
  {
   "attachments": {},
   "cell_type": "markdown",
   "id": "cefefe20",
   "metadata": {},
   "source": [
    "**Based on the studies and the graph above, some of the conclusions that can be drawn are as follows:**\n",
    "1. The most common number of items purchased per order is 5 with 31,923 occurrences, followed closely by 6 and 4. This indicates that 5 is a popular quantity of items for customers to purchase.\n",
    "2. The frequency of the number of items purchased per order tends to decrease as the number of items per order increases or decreases from the most common values of 5, 6, and 4.\n",
    "3. The minimum number of items per order is 1 and the maximum number of items per order is 127."
   ]
  },
  {
   "attachments": {},
   "cell_type": "markdown",
   "id": "5e6b5537",
   "metadata": {},
   "source": [
    "<hr style=\"margin-bottom: 40px;\">\n",
    "\n",
    "## 9. What are the top 20 items that are reordered most frequently?  <a id='analysis-9'></a>  \n",
    "[Back to Contents](#contents)"
   ]
  },
  {
   "attachments": {},
   "cell_type": "markdown",
   "id": "56e7c2ab",
   "metadata": {},
   "source": [
    "Let's find out the top 20 items that are reordered most frequently and display their names and product IDs."
   ]
  },
  {
   "attachments": {},
   "cell_type": "markdown",
   "id": "10c9e1b8",
   "metadata": {},
   "source": [
    "In order to proceed with our analysis, we need a Dataframe with `order_id`, `product_id`, `reordered` and `product_name`. Since we don't have any such Dataset yet, we will derive one.  \n",
    "\n",
    "We will merge two datasets - `order_prodcuts` and `products` to create our new datasets with the required columns."
   ]
  },
  {
   "cell_type": "code",
   "execution_count": 82,
   "id": "9374e55a",
   "metadata": {},
   "outputs": [
    {
     "data": {
      "text/html": [
       "<div>\n",
       "<style scoped>\n",
       "    .dataframe tbody tr th:only-of-type {\n",
       "        vertical-align: middle;\n",
       "    }\n",
       "\n",
       "    .dataframe tbody tr th {\n",
       "        vertical-align: top;\n",
       "    }\n",
       "\n",
       "    .dataframe thead th {\n",
       "        text-align: right;\n",
       "    }\n",
       "</style>\n",
       "<table border=\"1\" class=\"dataframe\">\n",
       "  <thead>\n",
       "    <tr style=\"text-align: right;\">\n",
       "      <th></th>\n",
       "      <th>order_id</th>\n",
       "      <th>product_id</th>\n",
       "      <th>reordered</th>\n",
       "      <th>product_name</th>\n",
       "    </tr>\n",
       "  </thead>\n",
       "  <tbody>\n",
       "    <tr>\n",
       "      <th>0</th>\n",
       "      <td>2141543</td>\n",
       "      <td>11440</td>\n",
       "      <td>0</td>\n",
       "      <td>Chicken Breast Tenders Breaded</td>\n",
       "    </tr>\n",
       "    <tr>\n",
       "      <th>1</th>\n",
       "      <td>567889</td>\n",
       "      <td>1560</td>\n",
       "      <td>1</td>\n",
       "      <td>Bag Of Ice</td>\n",
       "    </tr>\n",
       "    <tr>\n",
       "      <th>2</th>\n",
       "      <td>2261212</td>\n",
       "      <td>26683</td>\n",
       "      <td>1</td>\n",
       "      <td>Cafe Latte Pure Lightly Sweetened Iced Coffee ...</td>\n",
       "    </tr>\n",
       "    <tr>\n",
       "      <th>3</th>\n",
       "      <td>491251</td>\n",
       "      <td>8670</td>\n",
       "      <td>1</td>\n",
       "      <td>Diced Tomatoes</td>\n",
       "    </tr>\n",
       "    <tr>\n",
       "      <th>4</th>\n",
       "      <td>2571142</td>\n",
       "      <td>1940</td>\n",
       "      <td>1</td>\n",
       "      <td>Organic 2% Reduced Fat Milk</td>\n",
       "    </tr>\n",
       "  </tbody>\n",
       "</table>\n",
       "</div>"
      ],
      "text/plain": [
       "   order_id  product_id  reordered  \\\n",
       "0   2141543       11440          0   \n",
       "1    567889        1560          1   \n",
       "2   2261212       26683          1   \n",
       "3    491251        8670          1   \n",
       "4   2571142        1940          1   \n",
       "\n",
       "                                        product_name  \n",
       "0                     Chicken Breast Tenders Breaded  \n",
       "1                                         Bag Of Ice  \n",
       "2  Cafe Latte Pure Lightly Sweetened Iced Coffee ...  \n",
       "3                                     Diced Tomatoes  \n",
       "4                        Organic 2% Reduced Fat Milk  "
      ]
     },
     "execution_count": 82,
     "metadata": {},
     "output_type": "execute_result"
    }
   ],
   "source": [
    "# Merging order_products and products file on product_id to collect the product_name\n",
    "merged_orders = order_products[['order_id', 'product_id', 'reordered']].merge(products[['product_id', 'product_name']], how='left', on='product_id')\n",
    "merged_orders.head()"
   ]
  },
  {
   "attachments": {},
   "cell_type": "markdown",
   "id": "ae4daf30",
   "metadata": {},
   "source": [
    "Now, let's get all the products that have been reordered i.e. where `reordered` = `1`"
   ]
  },
  {
   "cell_type": "code",
   "execution_count": 83,
   "id": "professional-surfing",
   "metadata": {
    "scrolled": false
   },
   "outputs": [
    {
     "data": {
      "text/html": [
       "<div>\n",
       "<style scoped>\n",
       "    .dataframe tbody tr th:only-of-type {\n",
       "        vertical-align: middle;\n",
       "    }\n",
       "\n",
       "    .dataframe tbody tr th {\n",
       "        vertical-align: top;\n",
       "    }\n",
       "\n",
       "    .dataframe thead th {\n",
       "        text-align: right;\n",
       "    }\n",
       "</style>\n",
       "<table border=\"1\" class=\"dataframe\">\n",
       "  <thead>\n",
       "    <tr style=\"text-align: right;\">\n",
       "      <th></th>\n",
       "      <th>order_id</th>\n",
       "      <th>product_id</th>\n",
       "      <th>reordered</th>\n",
       "      <th>product_name</th>\n",
       "    </tr>\n",
       "  </thead>\n",
       "  <tbody>\n",
       "    <tr>\n",
       "      <th>1</th>\n",
       "      <td>567889</td>\n",
       "      <td>1560</td>\n",
       "      <td>1</td>\n",
       "      <td>Bag Of Ice</td>\n",
       "    </tr>\n",
       "    <tr>\n",
       "      <th>2</th>\n",
       "      <td>2261212</td>\n",
       "      <td>26683</td>\n",
       "      <td>1</td>\n",
       "      <td>Cafe Latte Pure Lightly Sweetened Iced Coffee ...</td>\n",
       "    </tr>\n",
       "    <tr>\n",
       "      <th>3</th>\n",
       "      <td>491251</td>\n",
       "      <td>8670</td>\n",
       "      <td>1</td>\n",
       "      <td>Diced Tomatoes</td>\n",
       "    </tr>\n",
       "    <tr>\n",
       "      <th>4</th>\n",
       "      <td>2571142</td>\n",
       "      <td>1940</td>\n",
       "      <td>1</td>\n",
       "      <td>Organic 2% Reduced Fat Milk</td>\n",
       "    </tr>\n",
       "    <tr>\n",
       "      <th>5</th>\n",
       "      <td>2456893</td>\n",
       "      <td>21616</td>\n",
       "      <td>1</td>\n",
       "      <td>Organic Baby Arugula</td>\n",
       "    </tr>\n",
       "    <tr>\n",
       "      <th>...</th>\n",
       "      <td>...</td>\n",
       "      <td>...</td>\n",
       "      <td>...</td>\n",
       "      <td>...</td>\n",
       "    </tr>\n",
       "    <tr>\n",
       "      <th>4544999</th>\n",
       "      <td>1622300</td>\n",
       "      <td>24852</td>\n",
       "      <td>1</td>\n",
       "      <td>Banana</td>\n",
       "    </tr>\n",
       "    <tr>\n",
       "      <th>4545000</th>\n",
       "      <td>1125324</td>\n",
       "      <td>40600</td>\n",
       "      <td>1</td>\n",
       "      <td>Cheese Stuffed Crust Pepperoni Pizza</td>\n",
       "    </tr>\n",
       "    <tr>\n",
       "      <th>4545002</th>\n",
       "      <td>577211</td>\n",
       "      <td>15290</td>\n",
       "      <td>1</td>\n",
       "      <td>Orange Bell Pepper</td>\n",
       "    </tr>\n",
       "    <tr>\n",
       "      <th>4545004</th>\n",
       "      <td>692640</td>\n",
       "      <td>47766</td>\n",
       "      <td>1</td>\n",
       "      <td>Organic Avocado</td>\n",
       "    </tr>\n",
       "    <tr>\n",
       "      <th>4545005</th>\n",
       "      <td>319435</td>\n",
       "      <td>691</td>\n",
       "      <td>1</td>\n",
       "      <td>Organic Promise Strawberry Fields Cereal</td>\n",
       "    </tr>\n",
       "  </tbody>\n",
       "</table>\n",
       "<p>2683838 rows × 4 columns</p>\n",
       "</div>"
      ],
      "text/plain": [
       "         order_id  product_id  reordered  \\\n",
       "1          567889        1560          1   \n",
       "2         2261212       26683          1   \n",
       "3          491251        8670          1   \n",
       "4         2571142        1940          1   \n",
       "5         2456893       21616          1   \n",
       "...           ...         ...        ...   \n",
       "4544999   1622300       24852          1   \n",
       "4545000   1125324       40600          1   \n",
       "4545002    577211       15290          1   \n",
       "4545004    692640       47766          1   \n",
       "4545005    319435         691          1   \n",
       "\n",
       "                                              product_name  \n",
       "1                                               Bag Of Ice  \n",
       "2        Cafe Latte Pure Lightly Sweetened Iced Coffee ...  \n",
       "3                                           Diced Tomatoes  \n",
       "4                              Organic 2% Reduced Fat Milk  \n",
       "5                                     Organic Baby Arugula  \n",
       "...                                                    ...  \n",
       "4544999                                             Banana  \n",
       "4545000               Cheese Stuffed Crust Pepperoni Pizza  \n",
       "4545002                                 Orange Bell Pepper  \n",
       "4545004                                    Organic Avocado  \n",
       "4545005           Organic Promise Strawberry Fields Cereal  \n",
       "\n",
       "[2683838 rows x 4 columns]"
      ]
     },
     "execution_count": 83,
     "metadata": {},
     "output_type": "execute_result"
    }
   ],
   "source": [
    "# Filtering all the products that have been reordered i.e. reordered = 1\n",
    "reordered_products_list = merged_orders.query('reordered == 1')\n",
    "reordered_products_list"
   ]
  },
  {
   "attachments": {},
   "cell_type": "markdown",
   "id": "1d698f45",
   "metadata": {},
   "source": [
    "Let's get the top 20 items that are reordered most frequently and display their names and product IDs."
   ]
  },
  {
   "cell_type": "code",
   "execution_count": 84,
   "id": "48dd3658",
   "metadata": {},
   "outputs": [
    {
     "data": {
      "text/html": [
       "<div>\n",
       "<style scoped>\n",
       "    .dataframe tbody tr th:only-of-type {\n",
       "        vertical-align: middle;\n",
       "    }\n",
       "\n",
       "    .dataframe tbody tr th {\n",
       "        vertical-align: top;\n",
       "    }\n",
       "\n",
       "    .dataframe thead th {\n",
       "        text-align: right;\n",
       "    }\n",
       "</style>\n",
       "<table border=\"1\" class=\"dataframe\">\n",
       "  <thead>\n",
       "    <tr style=\"text-align: right;\">\n",
       "      <th></th>\n",
       "      <th></th>\n",
       "      <th>number_of_orders</th>\n",
       "    </tr>\n",
       "    <tr>\n",
       "      <th>product_id</th>\n",
       "      <th>product_name</th>\n",
       "      <th></th>\n",
       "    </tr>\n",
       "  </thead>\n",
       "  <tbody>\n",
       "    <tr>\n",
       "      <th>24852</th>\n",
       "      <th>Banana</th>\n",
       "      <td>55763</td>\n",
       "    </tr>\n",
       "    <tr>\n",
       "      <th>13176</th>\n",
       "      <th>Bag of Organic Bananas</th>\n",
       "      <td>44450</td>\n",
       "    </tr>\n",
       "    <tr>\n",
       "      <th>21137</th>\n",
       "      <th>Organic Strawberries</th>\n",
       "      <td>28639</td>\n",
       "    </tr>\n",
       "    <tr>\n",
       "      <th>21903</th>\n",
       "      <th>Organic Baby Spinach</th>\n",
       "      <td>26233</td>\n",
       "    </tr>\n",
       "    <tr>\n",
       "      <th>47209</th>\n",
       "      <th>Organic Hass Avocado</th>\n",
       "      <td>23629</td>\n",
       "    </tr>\n",
       "    <tr>\n",
       "      <th>47766</th>\n",
       "      <th>Organic Avocado</th>\n",
       "      <td>18743</td>\n",
       "    </tr>\n",
       "    <tr>\n",
       "      <th>27845</th>\n",
       "      <th>Organic Whole Milk</th>\n",
       "      <td>16251</td>\n",
       "    </tr>\n",
       "    <tr>\n",
       "      <th>47626</th>\n",
       "      <th>Large Lemon</th>\n",
       "      <td>15044</td>\n",
       "    </tr>\n",
       "    <tr>\n",
       "      <th>27966</th>\n",
       "      <th>Organic Raspberries</th>\n",
       "      <td>14748</td>\n",
       "    </tr>\n",
       "    <tr>\n",
       "      <th>16797</th>\n",
       "      <th>Strawberries</th>\n",
       "      <td>13945</td>\n",
       "    </tr>\n",
       "    <tr>\n",
       "      <th>26209</th>\n",
       "      <th>Limes</th>\n",
       "      <td>13327</td>\n",
       "    </tr>\n",
       "    <tr>\n",
       "      <th>22935</th>\n",
       "      <th>Organic Yellow Onion</th>\n",
       "      <td>11145</td>\n",
       "    </tr>\n",
       "    <tr>\n",
       "      <th>24964</th>\n",
       "      <th>Organic Garlic</th>\n",
       "      <td>10411</td>\n",
       "    </tr>\n",
       "    <tr>\n",
       "      <th>45007</th>\n",
       "      <th>Organic Zucchini</th>\n",
       "      <td>10076</td>\n",
       "    </tr>\n",
       "    <tr>\n",
       "      <th>49683</th>\n",
       "      <th>Cucumber Kirby</th>\n",
       "      <td>9538</td>\n",
       "    </tr>\n",
       "    <tr>\n",
       "      <th>28204</th>\n",
       "      <th>Organic Fuji Apple</th>\n",
       "      <td>8989</td>\n",
       "    </tr>\n",
       "    <tr>\n",
       "      <th>8277</th>\n",
       "      <th>Apple Honeycrisp Organic</th>\n",
       "      <td>8836</td>\n",
       "    </tr>\n",
       "    <tr>\n",
       "      <th>39275</th>\n",
       "      <th>Organic Blueberries</th>\n",
       "      <td>8799</td>\n",
       "    </tr>\n",
       "    <tr>\n",
       "      <th>5876</th>\n",
       "      <th>Organic Lemon</th>\n",
       "      <td>8412</td>\n",
       "    </tr>\n",
       "    <tr>\n",
       "      <th>49235</th>\n",
       "      <th>Organic Half &amp; Half</th>\n",
       "      <td>8389</td>\n",
       "    </tr>\n",
       "  </tbody>\n",
       "</table>\n",
       "</div>"
      ],
      "text/plain": [
       "                                     number_of_orders\n",
       "product_id product_name                              \n",
       "24852      Banana                               55763\n",
       "13176      Bag of Organic Bananas               44450\n",
       "21137      Organic Strawberries                 28639\n",
       "21903      Organic Baby Spinach                 26233\n",
       "47209      Organic Hass Avocado                 23629\n",
       "47766      Organic Avocado                      18743\n",
       "27845      Organic Whole Milk                   16251\n",
       "47626      Large Lemon                          15044\n",
       "27966      Organic Raspberries                  14748\n",
       "16797      Strawberries                         13945\n",
       "26209      Limes                                13327\n",
       "22935      Organic Yellow Onion                 11145\n",
       "24964      Organic Garlic                       10411\n",
       "45007      Organic Zucchini                     10076\n",
       "49683      Cucumber Kirby                        9538\n",
       "28204      Organic Fuji Apple                    8989\n",
       "8277       Apple Honeycrisp Organic              8836\n",
       "39275      Organic Blueberries                   8799\n",
       "5876       Organic Lemon                         8412\n",
       "49235      Organic Half & Half                   8389"
      ]
     },
     "execution_count": 84,
     "metadata": {},
     "output_type": "execute_result"
    }
   ],
   "source": [
    "# Grouping by product_id and product_name, sort by number of orders\n",
    "reordered_products_list_grpd = reordered_products_list.groupby(['product_id', 'product_name'])\n",
    "top_20_reordered_products = reordered_products_list_grpd.agg(number_of_orders = ('order_id', 'count')).sort_values(by='number_of_orders', ascending=False).head(20)\n",
    "top_20_reordered_products"
   ]
  },
  {
   "cell_type": "code",
   "execution_count": 85,
   "id": "d5a93984",
   "metadata": {},
   "outputs": [
    {
     "data": {
      "image/png": "[encoded data removed]",
      "text/plain": [
       "<Figure size 1600x800 with 1 Axes>"
      ]
     },
     "metadata": {},
     "output_type": "display_data"
    }
   ],
   "source": [
    "# Plotting graph showing the top 20 items that are reordered most frequently\n",
    "top_20_reordered_products.plot(\n",
    "        kind='bar',\n",
    "        title='Top 20 items that are reordered most frequently',\n",
    "        xlabel='Products purchased',\n",
    "        ylabel='No. of times the product was reordered',\n",
    "        figsize=[16, 8],\n",
    "        legend=False,\n",
    "        color='Turquoise')\n",
    "\n",
    "plt.show()"
   ]
  },
  {
   "attachments": {},
   "cell_type": "markdown",
   "id": "6d1c483d",
   "metadata": {},
   "source": [
    "**From the analysed data of top 20 products that have been reordered by customers on Instacart, we can conclude the following**:\n",
    "\n",
    "1. Bananas and Bag of Organic Bananas are the top two products that have been reordered the most by customers on Instacart.\n",
    "2. Organic fruits and vegetables are popular choices among customers for reordering on Instacart, including Organic Strawberries, Organic Baby Spinach, Organic Hass Avocado, Organic Avocado, Organic Raspberries, and Organic Blueberries.\n",
    "3. Customers also tend to reorder non-organic produce, such as Large Lemon, Strawberries, and Limes.\n",
    "4. Organic dairy products, like Organic Whole Milk and Organic Half & Half, are also among the top 20 products that have been reordered by customers.\n",
    "5. Organic Yellow Onion, Organic Garlic, and Organic Zucchini are the only three vegetables that made it to the list of top 20 products that have been reordered by customers.\n",
    "6. Organic Fuji Apple and Apple Honeycrisp Organic are the only two apple varieties that made it to the list of top 20 products that have been reordered by customers.  \n",
    "\n",
    "Overall, we can see that customers on Instacart prefer to reorder fresh produce, with a preference for organic fruits and vegetables. They also reorder popular dairy products and some non-organic fruits."
   ]
  },
  {
   "attachments": {},
   "cell_type": "markdown",
   "id": "92d35137",
   "metadata": {},
   "source": [
    "<hr style=\"margin-bottom: 40px;\">\n",
    "\n",
    "## 10. What are the top 20 items that people put in their carts first?  <a id='analysis-10'></a>  \n",
    "[Back to Contents](#contents)"
   ]
  },
  {
   "attachments": {},
   "cell_type": "markdown",
   "id": "3b5647ef",
   "metadata": {
    "scrolled": true
   },
   "source": [
    "The objective is to determine the proportion of orders for an item compared to the number of times it was added first to a customer's cart. This calculation requires us to determine the total number of times the item has been ordered and the total number of times the item was the first to be placed in the cart. Once these figures have been obtained, we can sort the items based on this ratio."
   ]
  },
  {
   "cell_type": "code",
   "execution_count": 86,
   "id": "forty-netherlands",
   "metadata": {
    "scrolled": true
   },
   "outputs": [
    {
     "data": {
      "text/html": [
       "<div>\n",
       "<style scoped>\n",
       "    .dataframe tbody tr th:only-of-type {\n",
       "        vertical-align: middle;\n",
       "    }\n",
       "\n",
       "    .dataframe tbody tr th {\n",
       "        vertical-align: top;\n",
       "    }\n",
       "\n",
       "    .dataframe thead th {\n",
       "        text-align: right;\n",
       "    }\n",
       "</style>\n",
       "<table border=\"1\" class=\"dataframe\">\n",
       "  <thead>\n",
       "    <tr style=\"text-align: right;\">\n",
       "      <th></th>\n",
       "      <th>order_id</th>\n",
       "      <th>product_id</th>\n",
       "      <th>add_to_cart_order</th>\n",
       "      <th>product_name</th>\n",
       "    </tr>\n",
       "  </thead>\n",
       "  <tbody>\n",
       "    <tr>\n",
       "      <th>0</th>\n",
       "      <td>2141543</td>\n",
       "      <td>11440</td>\n",
       "      <td>17</td>\n",
       "      <td>Chicken Breast Tenders Breaded</td>\n",
       "    </tr>\n",
       "    <tr>\n",
       "      <th>1</th>\n",
       "      <td>567889</td>\n",
       "      <td>1560</td>\n",
       "      <td>1</td>\n",
       "      <td>Bag Of Ice</td>\n",
       "    </tr>\n",
       "    <tr>\n",
       "      <th>2</th>\n",
       "      <td>2261212</td>\n",
       "      <td>26683</td>\n",
       "      <td>1</td>\n",
       "      <td>Cafe Latte Pure Lightly Sweetened Iced Coffee ...</td>\n",
       "    </tr>\n",
       "    <tr>\n",
       "      <th>3</th>\n",
       "      <td>491251</td>\n",
       "      <td>8670</td>\n",
       "      <td>35</td>\n",
       "      <td>Diced Tomatoes</td>\n",
       "    </tr>\n",
       "    <tr>\n",
       "      <th>4</th>\n",
       "      <td>2571142</td>\n",
       "      <td>1940</td>\n",
       "      <td>5</td>\n",
       "      <td>Organic 2% Reduced Fat Milk</td>\n",
       "    </tr>\n",
       "  </tbody>\n",
       "</table>\n",
       "</div>"
      ],
      "text/plain": [
       "   order_id  product_id  add_to_cart_order  \\\n",
       "0   2141543       11440                 17   \n",
       "1    567889        1560                  1   \n",
       "2   2261212       26683                  1   \n",
       "3    491251        8670                 35   \n",
       "4   2571142        1940                  5   \n",
       "\n",
       "                                        product_name  \n",
       "0                     Chicken Breast Tenders Breaded  \n",
       "1                                         Bag Of Ice  \n",
       "2  Cafe Latte Pure Lightly Sweetened Iced Coffee ...  \n",
       "3                                     Diced Tomatoes  \n",
       "4                        Organic 2% Reduced Fat Milk  "
      ]
     },
     "execution_count": 86,
     "metadata": {},
     "output_type": "execute_result"
    }
   ],
   "source": [
    "# Merging order_products and products file on product_id to collect the product_name\n",
    "merged_orders = order_products[['order_id', 'product_id', 'add_to_cart_order']].merge(products[['product_id', 'product_name']], how='left', on='product_id')\n",
    "merged_orders.head()"
   ]
  },
  {
   "attachments": {},
   "cell_type": "markdown",
   "id": "19ea1288",
   "metadata": {},
   "source": [
    "Perfect! Now, let's filter all the products which people put first in their carts i.e. where `add_to_cart_order == 1`."
   ]
  },
  {
   "cell_type": "code",
   "execution_count": 87,
   "id": "630d9c99",
   "metadata": {},
   "outputs": [
    {
     "data": {
      "text/html": [
       "<div>\n",
       "<style scoped>\n",
       "    .dataframe tbody tr th:only-of-type {\n",
       "        vertical-align: middle;\n",
       "    }\n",
       "\n",
       "    .dataframe tbody tr th {\n",
       "        vertical-align: top;\n",
       "    }\n",
       "\n",
       "    .dataframe thead th {\n",
       "        text-align: right;\n",
       "    }\n",
       "</style>\n",
       "<table border=\"1\" class=\"dataframe\">\n",
       "  <thead>\n",
       "    <tr style=\"text-align: right;\">\n",
       "      <th></th>\n",
       "      <th>order_id</th>\n",
       "      <th>product_id</th>\n",
       "      <th>add_to_cart_order</th>\n",
       "      <th>product_name</th>\n",
       "    </tr>\n",
       "  </thead>\n",
       "  <tbody>\n",
       "    <tr>\n",
       "      <th>1</th>\n",
       "      <td>567889</td>\n",
       "      <td>1560</td>\n",
       "      <td>1</td>\n",
       "      <td>Bag Of Ice</td>\n",
       "    </tr>\n",
       "    <tr>\n",
       "      <th>2</th>\n",
       "      <td>2261212</td>\n",
       "      <td>26683</td>\n",
       "      <td>1</td>\n",
       "      <td>Cafe Latte Pure Lightly Sweetened Iced Coffee ...</td>\n",
       "    </tr>\n",
       "    <tr>\n",
       "      <th>14</th>\n",
       "      <td>1961225</td>\n",
       "      <td>37553</td>\n",
       "      <td>1</td>\n",
       "      <td>Iced Coffee Lightly Sweet</td>\n",
       "    </tr>\n",
       "    <tr>\n",
       "      <th>16</th>\n",
       "      <td>639939</td>\n",
       "      <td>10017</td>\n",
       "      <td>1</td>\n",
       "      <td>Tilapia Filet</td>\n",
       "    </tr>\n",
       "    <tr>\n",
       "      <th>23</th>\n",
       "      <td>750040</td>\n",
       "      <td>8518</td>\n",
       "      <td>1</td>\n",
       "      <td>Organic Red Onion</td>\n",
       "    </tr>\n",
       "    <tr>\n",
       "      <th>...</th>\n",
       "      <td>...</td>\n",
       "      <td>...</td>\n",
       "      <td>...</td>\n",
       "      <td>...</td>\n",
       "    </tr>\n",
       "    <tr>\n",
       "      <th>4544978</th>\n",
       "      <td>1759009</td>\n",
       "      <td>46175</td>\n",
       "      <td>1</td>\n",
       "      <td>Half Baked® Ice Cream</td>\n",
       "    </tr>\n",
       "    <tr>\n",
       "      <th>4544989</th>\n",
       "      <td>115427</td>\n",
       "      <td>20842</td>\n",
       "      <td>1</td>\n",
       "      <td>Total 0% Greek Yogurt</td>\n",
       "    </tr>\n",
       "    <tr>\n",
       "      <th>4544990</th>\n",
       "      <td>2049780</td>\n",
       "      <td>28576</td>\n",
       "      <td>1</td>\n",
       "      <td>Vanilla Bean Chia Pod</td>\n",
       "    </tr>\n",
       "    <tr>\n",
       "      <th>4544997</th>\n",
       "      <td>2300092</td>\n",
       "      <td>10017</td>\n",
       "      <td>1</td>\n",
       "      <td>Tilapia Filet</td>\n",
       "    </tr>\n",
       "    <tr>\n",
       "      <th>4544999</th>\n",
       "      <td>1622300</td>\n",
       "      <td>24852</td>\n",
       "      <td>1</td>\n",
       "      <td>Banana</td>\n",
       "    </tr>\n",
       "  </tbody>\n",
       "</table>\n",
       "<p>450046 rows × 4 columns</p>\n",
       "</div>"
      ],
      "text/plain": [
       "         order_id  product_id  add_to_cart_order  \\\n",
       "1          567889        1560                  1   \n",
       "2         2261212       26683                  1   \n",
       "14        1961225       37553                  1   \n",
       "16         639939       10017                  1   \n",
       "23         750040        8518                  1   \n",
       "...           ...         ...                ...   \n",
       "4544978   1759009       46175                  1   \n",
       "4544989    115427       20842                  1   \n",
       "4544990   2049780       28576                  1   \n",
       "4544997   2300092       10017                  1   \n",
       "4544999   1622300       24852                  1   \n",
       "\n",
       "                                              product_name  \n",
       "1                                               Bag Of Ice  \n",
       "2        Cafe Latte Pure Lightly Sweetened Iced Coffee ...  \n",
       "14                               Iced Coffee Lightly Sweet  \n",
       "16                                           Tilapia Filet  \n",
       "23                                       Organic Red Onion  \n",
       "...                                                    ...  \n",
       "4544978                              Half Baked® Ice Cream  \n",
       "4544989                              Total 0% Greek Yogurt  \n",
       "4544990                              Vanilla Bean Chia Pod  \n",
       "4544997                                      Tilapia Filet  \n",
       "4544999                                             Banana  \n",
       "\n",
       "[450046 rows x 4 columns]"
      ]
     },
     "execution_count": 87,
     "metadata": {},
     "output_type": "execute_result"
    }
   ],
   "source": [
    "# Filtering where add_to_cart_order = 1\n",
    "add_to_cart_list = merged_orders.query(\"add_to_cart_order == 1\")\n",
    "add_to_cart_list"
   ]
  },
  {
   "cell_type": "code",
   "execution_count": 88,
   "id": "f4a2af09",
   "metadata": {
    "scrolled": false
   },
   "outputs": [
    {
     "data": {
      "text/html": [
       "<div>\n",
       "<style scoped>\n",
       "    .dataframe tbody tr th:only-of-type {\n",
       "        vertical-align: middle;\n",
       "    }\n",
       "\n",
       "    .dataframe tbody tr th {\n",
       "        vertical-align: top;\n",
       "    }\n",
       "\n",
       "    .dataframe thead th {\n",
       "        text-align: right;\n",
       "    }\n",
       "</style>\n",
       "<table border=\"1\" class=\"dataframe\">\n",
       "  <thead>\n",
       "    <tr style=\"text-align: right;\">\n",
       "      <th></th>\n",
       "      <th></th>\n",
       "      <th>number_of_orders</th>\n",
       "    </tr>\n",
       "    <tr>\n",
       "      <th>product_id</th>\n",
       "      <th>product_name</th>\n",
       "      <th></th>\n",
       "    </tr>\n",
       "  </thead>\n",
       "  <tbody>\n",
       "    <tr>\n",
       "      <th>24852</th>\n",
       "      <th>Banana</th>\n",
       "      <td>15562</td>\n",
       "    </tr>\n",
       "    <tr>\n",
       "      <th>13176</th>\n",
       "      <th>Bag of Organic Bananas</th>\n",
       "      <td>11026</td>\n",
       "    </tr>\n",
       "    <tr>\n",
       "      <th>27845</th>\n",
       "      <th>Organic Whole Milk</th>\n",
       "      <td>4363</td>\n",
       "    </tr>\n",
       "    <tr>\n",
       "      <th>21137</th>\n",
       "      <th>Organic Strawberries</th>\n",
       "      <td>3946</td>\n",
       "    </tr>\n",
       "    <tr>\n",
       "      <th>47209</th>\n",
       "      <th>Organic Hass Avocado</th>\n",
       "      <td>3390</td>\n",
       "    </tr>\n",
       "    <tr>\n",
       "      <th>21903</th>\n",
       "      <th>Organic Baby Spinach</th>\n",
       "      <td>3336</td>\n",
       "    </tr>\n",
       "    <tr>\n",
       "      <th>47766</th>\n",
       "      <th>Organic Avocado</th>\n",
       "      <td>3044</td>\n",
       "    </tr>\n",
       "    <tr>\n",
       "      <th>19660</th>\n",
       "      <th>Spring Water</th>\n",
       "      <td>2336</td>\n",
       "    </tr>\n",
       "    <tr>\n",
       "      <th>16797</th>\n",
       "      <th>Strawberries</th>\n",
       "      <td>2308</td>\n",
       "    </tr>\n",
       "    <tr>\n",
       "      <th>27966</th>\n",
       "      <th>Organic Raspberries</th>\n",
       "      <td>2024</td>\n",
       "    </tr>\n",
       "    <tr>\n",
       "      <th>44632</th>\n",
       "      <th>Sparkling Water Grapefruit</th>\n",
       "      <td>1914</td>\n",
       "    </tr>\n",
       "    <tr>\n",
       "      <th>49235</th>\n",
       "      <th>Organic Half &amp; Half</th>\n",
       "      <td>1797</td>\n",
       "    </tr>\n",
       "    <tr>\n",
       "      <th>47626</th>\n",
       "      <th>Large Lemon</th>\n",
       "      <td>1737</td>\n",
       "    </tr>\n",
       "    <tr>\n",
       "      <th>196</th>\n",
       "      <th>Soda</th>\n",
       "      <td>1733</td>\n",
       "    </tr>\n",
       "    <tr>\n",
       "      <th>38689</th>\n",
       "      <th>Organic Reduced Fat Milk</th>\n",
       "      <td>1397</td>\n",
       "    </tr>\n",
       "    <tr>\n",
       "      <th>26209</th>\n",
       "      <th>Limes</th>\n",
       "      <td>1370</td>\n",
       "    </tr>\n",
       "    <tr>\n",
       "      <th>12341</th>\n",
       "      <th>Hass Avocados</th>\n",
       "      <td>1340</td>\n",
       "    </tr>\n",
       "    <tr>\n",
       "      <th>5785</th>\n",
       "      <th>Organic Reduced Fat 2% Milk</th>\n",
       "      <td>1310</td>\n",
       "    </tr>\n",
       "    <tr>\n",
       "      <th>27086</th>\n",
       "      <th>Half &amp; Half</th>\n",
       "      <td>1309</td>\n",
       "    </tr>\n",
       "    <tr>\n",
       "      <th>43352</th>\n",
       "      <th>Raspberries</th>\n",
       "      <td>1246</td>\n",
       "    </tr>\n",
       "  </tbody>\n",
       "</table>\n",
       "</div>"
      ],
      "text/plain": [
       "                                        number_of_orders\n",
       "product_id product_name                                 \n",
       "24852      Banana                                  15562\n",
       "13176      Bag of Organic Bananas                  11026\n",
       "27845      Organic Whole Milk                       4363\n",
       "21137      Organic Strawberries                     3946\n",
       "47209      Organic Hass Avocado                     3390\n",
       "21903      Organic Baby Spinach                     3336\n",
       "47766      Organic Avocado                          3044\n",
       "19660      Spring Water                             2336\n",
       "16797      Strawberries                             2308\n",
       "27966      Organic Raspberries                      2024\n",
       "44632      Sparkling Water Grapefruit               1914\n",
       "49235      Organic Half & Half                      1797\n",
       "47626      Large Lemon                              1737\n",
       "196        Soda                                     1733\n",
       "38689      Organic Reduced Fat Milk                 1397\n",
       "26209      Limes                                    1370\n",
       "12341      Hass Avocados                            1340\n",
       "5785       Organic Reduced Fat 2% Milk              1310\n",
       "27086      Half & Half                              1309\n",
       "43352      Raspberries                              1246"
      ]
     },
     "execution_count": 88,
     "metadata": {},
     "output_type": "execute_result"
    }
   ],
   "source": [
    "# Getting the top 20 items that people put in their carts first\n",
    "add_to_cart_list_grpd = add_to_cart_list.groupby(['product_id', 'product_name'])\n",
    "freq_items_add_to_cart_list = add_to_cart_list_grpd.agg(number_of_orders = ('order_id', 'count')).sort_values('number_of_orders', ascending = False).head(20)\n",
    "freq_items_add_to_cart_list"
   ]
  },
  {
   "cell_type": "code",
   "execution_count": 89,
   "id": "9798e94c",
   "metadata": {},
   "outputs": [
    {
     "data": {
      "image/png": "[encoded data removed]",
      "text/plain": [
       "<Figure size 1600x800 with 1 Axes>"
      ]
     },
     "metadata": {},
     "output_type": "display_data"
    }
   ],
   "source": [
    "# Plotting graph showing the top 20 items that people put in their carts first\n",
    "freq_items_add_to_cart_list.plot(\n",
    "        kind='bar',\n",
    "        title='Top 20 items that people put in their carts first',\n",
    "        xlabel='Products purchased',\n",
    "        ylabel='No. of times the product was put in carts',\n",
    "        figsize=[16, 8],\n",
    "        legend=False,\n",
    "        color='Chocolate')\n",
    "\n",
    "plt.show()"
   ]
  },
  {
   "attachments": {},
   "cell_type": "markdown",
   "id": "b2d46a67",
   "metadata": {},
   "source": [
    "**Based on the analyzed data and graph, we can draw the following conclusions**:\n",
    "\n",
    "1. The top two items that customers put in their carts first on Instacart are bananas and organic bananas, respectively. These items are very popular among Instacart customers.\n",
    "\n",
    "2. Organic products are very popular among Instacart customers, as several organic items appear in the list, including organic whole milk, organic strawberries, organic Hass avocado, organic baby spinach, organic avocado, organic raspberries, and organic half & half.\n",
    "\n",
    "3. Fresh produce is also popular among Instacart customers, as several fruits and vegetables appear in the list, including strawberries, lemons, limes, and baby spinach.\n",
    "\n",
    "4. Beverages are also popular among Instacart customers, as both spring water and soda, appear in the list.\n",
    "\n",
    "5. Reduced-fat milk and half & half are also popular among Instacart customers, with both organic and non-organic versions of these products appearing in the list.\n",
    "\n",
    "Overall, the data suggests that Instacart customers prioritize fresh produce, organic products, and beverages when filling their carts. The popularity of bananas and organic bananas suggest that these items are likely staples in many households."
   ]
  },
  {
   "attachments": {},
   "cell_type": "markdown",
   "id": "2982ff70",
   "metadata": {},
   "source": [
    "![purple-divider](https://user-images.githubusercontent.com/7065401/52071927-c1cd7100-2562-11e9-908a-dde91ba14e59.png)\n",
    "\n",
    "# 💡 Findings  <a id='findings'></a>  \n",
    "[Back to Contents](#contents)"
   ]
  },
  {
   "attachments": {},
   "cell_type": "markdown",
   "id": "afd5f9eb",
   "metadata": {},
   "source": [
    "I analyzed data released by Instacart in 2017 and our goal was to have some insight into the shopping habits of Instacart customers. I loaded five data files into dataframes and explored the data, checked and removed duplicates from dataframes and found and fixed missing values and data types, as required.  \n",
    "\n",
    "Later, I did analysis on dataframes and made several data visualizations.  \n",
    "\n",
    "Here are my findings:  \n",
    "1. **Verify that values in the `order_hour_of_day` and `order_dow` columns in the orders table are sensible**  \n",
    "The `order_hour_of_day` column in the `orders` table contains hour of the day in 24-hour format and values range from 0 to 23. The `order_dow` values in the `orders` table are also sensible i.e. `order_dow` ranges from 0 to 6.\n",
    "\n",
    "\n",
    "2. **How many people place orders for each hour of the day?** \n",
    "There is a significant decrease in orders from midnight until 5 in the morning, which is understandable as people are generally sleeping at this time. However, as the day progresses, there is an increase in orders from early morning shoppers which peaks in the late morning and remains steady throughout the afternoon. Towards the evening, there is a gradual decrease in orders.  \n",
    "\n",
    "\n",
    "3. **What day of the week people shop for groceries?**  \n",
    "The shopping activity tends to be higher on weekends than weekdays, with Saturdays being more popular than Sundays. Among the weekdays, Wednesday has the lowest shopping activity while Monday has the highest.  \n",
    "\n",
    "\n",
    "4. **How long people wait until placing their next order?**  \n",
    "Typically, people wait up to 30 days to order groceries again after their prior order, with very few placing their next order between 22 to 29 days. The beginning of the month tends to be a popular time for grocery orders, while the number of orders gradually decreases throughout the later part of the month.  \n",
    "\n",
    "\n",
    "5. **Is there a difference in `order_hour_of_day` distributions on Wednesdays and Saturdays?**  \n",
    "There are no observable variations in the distribution of orders placed on Wednesdays versus Saturdays, and the busiest ordering hours tend to be between 3:00PM to 4:00PM. Additionally, the early hours of the day tend to be the least active for orders, with order volume gradually increasing as the day progresses. However, the key distinction between Wednesdays and Saturdays is the number of orders placed, with significantly more orders being placed on Saturdays than on Wednesdays.  \n",
    "\n",
    "\n",
    "6. **The number of orders that customers place.**  \n",
    "The majority of customers (over 80,000) place orders on a monthly basis (once or twice), with some customers placing orders 3 to 8 times per month. However, the number of customers placing orders per month drops significantly after 9 orders.  \n",
    "\n",
    "\n",
    "7. **What are the top 20 products that are ordered most frequently?**  \n",
    "The derived list of the top 20 purchased products suggests that fresh fruits and vegetables, particularly organic ones, are very popular among consumers. Only one dairy product, organic whole milk, appears on the list. The popularity of items such as bananas, strawberries, spinach, and avocados suggest that these items are likely considered staples by many consumers.  \n",
    "\n",
    "\n",
    "8. **How many items do people typically buy in one order?**  \n",
    "The analysis found that the most common quantity of items purchased per order on Instacart is 5, with 31,923 occurrences, followed closely by 6 and 4. The frequency of the number of items purchased per order tends to decrease as the number of items per order moves away from the most common values. The minimum number of items per order is 1, and the maximum is 127. Overall, the study suggests that 5 is a popular quantity of items for customers to purchase on Instacart.  \n",
    "\n",
    "\n",
    "9. **What are the top 20 items that are reordered most frequently?**  \n",
    "The analyzed data indicates that customers on Instacart tend to reorder bananas and bag of organic bananas the most. Additionally, organic fruits and vegetables such as strawberries, baby spinach, avocados, raspberries, and blueberries are popular choices for reordering, along with non-organic produce like lemons, strawberries, and limes. Organic dairy products like whole milk and half & half are also among the top 20 reordered items. Only a few vegetables, such as yellow onion, garlic, and zucchini, made it to the top 20, and two varieties of organic apples were also on the list. Overall, the data suggests that customers tend to prioritize organic and fresh produce when reordering on Instacart.  \n",
    "\n",
    "\n",
    "10. **What are the top 20 items that people put in their carts first?**  \n",
    "The analyzed data suggests that bananas and organic bananas are the top two items that customers put in their carts first on Instacart. Organic products, particularly organic milk and various fruits and vegetables, are also very popular among customers. Fresh produce, beverages, and reduced-fat milk and half & half are also popular choices for customers. Overall, the data indicates that customers prioritize healthy and organic options when placing their initial orders on Instacart."
   ]
  }
 ],
 "metadata": {
  "kernelspec": {
   "display_name": "Python 3 (ipykernel)",
   "language": "python",
   "name": "python3"
  },
  "language_info": {
   "codemirror_mode": {
    "name": "ipython",
    "version": 3
   },
   "file_extension": ".py",
   "mimetype": "text/x-python",
   "name": "python",
   "nbconvert_exporter": "python",
   "pygments_lexer": "ipython3",
   "version": "3.11.1"
  },
  "toc": {
   "base_numbering": 1,
   "nav_menu": {},
   "number_sections": true,
   "sideBar": true,
   "skip_h1_title": true,
   "title_cell": "Table of Contents",
   "title_sidebar": "Contents",
   "toc_cell": false,
   "toc_position": {},
   "toc_section_display": true,
   "toc_window_display": true
  },
  "vscode": {
   "interpreter": {
    "hash": "01a7be9ec63e704a62cefc5fe7a4756944464ee731be31632bdf42a4cb4688cf"
   }
  }
 },
 "nbformat": 4,
 "nbformat_minor": 5
}
